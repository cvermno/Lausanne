{
 "cells": [
  {
   "cell_type": "code",
   "execution_count": 1,
   "id": "a813cfad-6435-4054-92ab-829c48de2155",
   "metadata": {
    "tags": []
   },
   "outputs": [
    {
     "name": "stdout",
     "output_type": "stream",
     "text": [
      "Requirement already satisfied: spacy in c:\\users\\mariana\\anaconda3\\lib\\site-packages (3.7.4)\n",
      "Requirement already satisfied: spacy-legacy<3.1.0,>=3.0.11 in c:\\users\\mariana\\anaconda3\\lib\\site-packages (from spacy) (3.0.12)\n",
      "Requirement already satisfied: spacy-loggers<2.0.0,>=1.0.0 in c:\\users\\mariana\\anaconda3\\lib\\site-packages (from spacy) (1.0.5)\n",
      "Requirement already satisfied: murmurhash<1.1.0,>=0.28.0 in c:\\users\\mariana\\anaconda3\\lib\\site-packages (from spacy) (1.0.10)\n",
      "Requirement already satisfied: cymem<2.1.0,>=2.0.2 in c:\\users\\mariana\\anaconda3\\lib\\site-packages (from spacy) (2.0.8)\n",
      "Requirement already satisfied: preshed<3.1.0,>=3.0.2 in c:\\users\\mariana\\anaconda3\\lib\\site-packages (from spacy) (3.0.9)\n",
      "Requirement already satisfied: thinc<8.3.0,>=8.2.2 in c:\\users\\mariana\\anaconda3\\lib\\site-packages (from spacy) (8.2.3)\n",
      "Requirement already satisfied: wasabi<1.2.0,>=0.9.1 in c:\\users\\mariana\\anaconda3\\lib\\site-packages (from spacy) (1.1.2)\n",
      "Requirement already satisfied: srsly<3.0.0,>=2.4.3 in c:\\users\\mariana\\anaconda3\\lib\\site-packages (from spacy) (2.4.8)\n",
      "Requirement already satisfied: catalogue<2.1.0,>=2.0.6 in c:\\users\\mariana\\anaconda3\\lib\\site-packages (from spacy) (2.0.10)\n",
      "Requirement already satisfied: weasel<0.4.0,>=0.1.0 in c:\\users\\mariana\\anaconda3\\lib\\site-packages (from spacy) (0.3.4)\n",
      "Requirement already satisfied: typer<0.10.0,>=0.3.0 in c:\\users\\mariana\\anaconda3\\lib\\site-packages (from spacy) (0.9.4)\n",
      "Requirement already satisfied: smart-open<7.0.0,>=5.2.1 in c:\\users\\mariana\\anaconda3\\lib\\site-packages (from spacy) (5.2.1)\n",
      "Requirement already satisfied: tqdm<5.0.0,>=4.38.0 in c:\\users\\mariana\\anaconda3\\lib\\site-packages (from spacy) (4.65.0)\n",
      "Requirement already satisfied: requests<3.0.0,>=2.13.0 in c:\\users\\mariana\\anaconda3\\lib\\site-packages (from spacy) (2.31.0)\n",
      "Requirement already satisfied: pydantic!=1.8,!=1.8.1,<3.0.0,>=1.7.4 in c:\\users\\mariana\\anaconda3\\lib\\site-packages (from spacy) (1.10.12)\n",
      "Requirement already satisfied: jinja2 in c:\\users\\mariana\\anaconda3\\lib\\site-packages (from spacy) (3.1.3)\n",
      "Requirement already satisfied: setuptools in c:\\users\\mariana\\anaconda3\\lib\\site-packages (from spacy) (68.2.2)\n",
      "Requirement already satisfied: packaging>=20.0 in c:\\users\\mariana\\anaconda3\\lib\\site-packages (from spacy) (23.1)\n",
      "Requirement already satisfied: langcodes<4.0.0,>=3.2.0 in c:\\users\\mariana\\anaconda3\\lib\\site-packages (from spacy) (3.4.0)\n",
      "Requirement already satisfied: numpy>=1.19.0 in c:\\users\\mariana\\anaconda3\\lib\\site-packages (from spacy) (1.26.4)\n",
      "Requirement already satisfied: language-data>=1.2 in c:\\users\\mariana\\anaconda3\\lib\\site-packages (from langcodes<4.0.0,>=3.2.0->spacy) (1.2.0)\n",
      "Requirement already satisfied: typing-extensions>=4.2.0 in c:\\users\\mariana\\anaconda3\\lib\\site-packages (from pydantic!=1.8,!=1.8.1,<3.0.0,>=1.7.4->spacy) (4.9.0)\n",
      "Requirement already satisfied: charset-normalizer<4,>=2 in c:\\users\\mariana\\anaconda3\\lib\\site-packages (from requests<3.0.0,>=2.13.0->spacy) (2.0.4)\n",
      "Requirement already satisfied: idna<4,>=2.5 in c:\\users\\mariana\\anaconda3\\lib\\site-packages (from requests<3.0.0,>=2.13.0->spacy) (3.4)\n",
      "Requirement already satisfied: urllib3<3,>=1.21.1 in c:\\users\\mariana\\anaconda3\\lib\\site-packages (from requests<3.0.0,>=2.13.0->spacy) (2.0.7)\n",
      "Requirement already satisfied: certifi>=2017.4.17 in c:\\users\\mariana\\anaconda3\\lib\\site-packages (from requests<3.0.0,>=2.13.0->spacy) (2024.2.2)\n",
      "Requirement already satisfied: blis<0.8.0,>=0.7.8 in c:\\users\\mariana\\anaconda3\\lib\\site-packages (from thinc<8.3.0,>=8.2.2->spacy) (0.7.11)\n",
      "Requirement already satisfied: confection<1.0.0,>=0.0.1 in c:\\users\\mariana\\anaconda3\\lib\\site-packages (from thinc<8.3.0,>=8.2.2->spacy) (0.1.4)\n",
      "Requirement already satisfied: colorama in c:\\users\\mariana\\anaconda3\\lib\\site-packages (from tqdm<5.0.0,>=4.38.0->spacy) (0.4.6)\n",
      "Requirement already satisfied: click<9.0.0,>=7.1.1 in c:\\users\\mariana\\anaconda3\\lib\\site-packages (from typer<0.10.0,>=0.3.0->spacy) (8.1.7)\n",
      "Requirement already satisfied: cloudpathlib<0.17.0,>=0.7.0 in c:\\users\\mariana\\anaconda3\\lib\\site-packages (from weasel<0.4.0,>=0.1.0->spacy) (0.16.0)\n",
      "Requirement already satisfied: MarkupSafe>=2.0 in c:\\users\\mariana\\anaconda3\\lib\\site-packages (from jinja2->spacy) (2.1.3)\n",
      "Requirement already satisfied: marisa-trie>=0.7.7 in c:\\users\\mariana\\anaconda3\\lib\\site-packages (from language-data>=1.2->langcodes<4.0.0,>=3.2.0->spacy) (1.1.1)\n",
      "Note: you may need to restart the kernel to use updated packages.\n"
     ]
    }
   ],
   "source": [
    "pip install spacy"
   ]
  },
  {
   "cell_type": "markdown",
   "id": "a0618d31-62a9-4c85-96ad-6bf19dd1190e",
   "metadata": {},
   "source": [
    "# Import packages"
   ]
  },
  {
   "cell_type": "code",
   "execution_count": 3,
   "id": "55dbd6b7-b14a-4ba0-a6c5-0e381aa598d2",
   "metadata": {},
   "outputs": [
    {
     "name": "stderr",
     "output_type": "stream",
     "text": [
      "[nltk_data] Downloading package stopwords to\n",
      "[nltk_data]     C:\\Users\\Mariana\\AppData\\Roaming\\nltk_data...\n",
      "[nltk_data]   Package stopwords is already up-to-date!\n"
     ]
    },
    {
     "data": {
      "text/plain": [
       "True"
      ]
     },
     "execution_count": 3,
     "metadata": {},
     "output_type": "execute_result"
    }
   ],
   "source": [
    "# Import standard libraries\n",
    "import pandas as pd\n",
    "import numpy as np\n",
    "import seaborn as sns\n",
    "import matplotlib.pyplot as plt\n",
    "%matplotlib inline\n",
    "\n",
    "# Import to load arff file from url\n",
    "from scipy.io import arff\n",
    "import urllib.request\n",
    "import io \n",
    "\n",
    "# Sklearn import\n",
    "from sklearn.model_selection import train_test_split # Splitting the data set\n",
    "from sklearn.preprocessing import MinMaxScaler, StandardScaler # Normalization and standard scaler\n",
    "from sklearn.preprocessing import LabelEncoder, OneHotEncoder # Label and 1-hot encoding\n",
    "from sklearn.linear_model import LogisticRegression # Logistic regression model\n",
    "from sklearn.linear_model import LogisticRegressionCV # Logistic regression with cross-validation\n",
    "from sklearn.tree import DecisionTreeClassifier\n",
    "from sklearn.neighbors import KNeighborsClassifier\n",
    "from sklearn.ensemble import RandomForestClassifier\n",
    "from sklearn.metrics import accuracy_score  # Accuracy\n",
    "from sklearn.metrics import confusion_matrix # Confusion matrix\n",
    "from sklearn.metrics import precision_score, recall_score, f1_score  # Precision, recall, and f1 score\n",
    "from sklearn.metrics import confusion_matrix, classification_report\n",
    "from sklearn.feature_extraction.text import CountVectorizer, TfidfVectorizer\n",
    "\n",
    "from nltk.corpus import stopwords\n",
    "import nltk\n",
    "nltk.download('stopwords')\n"
   ]
  },
  {
   "cell_type": "code",
   "execution_count": 4,
   "id": "d4b0a85c-6923-41bd-99f2-a45256aa7b08",
   "metadata": {
    "tags": []
   },
   "outputs": [
    {
     "data": {
      "text/plain": [
       "0"
      ]
     },
     "execution_count": 4,
     "metadata": {},
     "output_type": "execute_result"
    }
   ],
   "source": [
    "import os\n",
    "os.system('pip install spacy')\n",
    "#os.system('python -m spacy download fr_core_news_sm')\n"
   ]
  },
  {
   "cell_type": "code",
   "execution_count": 5,
   "id": "98035317-844a-4ce2-a8ee-d63811450f13",
   "metadata": {
    "tags": []
   },
   "outputs": [],
   "source": [
    "import spacy\n",
    "import string\n",
    "nlp = spacy.load('fr_core_news_sm')"
   ]
  },
  {
   "cell_type": "markdown",
   "id": "bb6908db-546a-4f11-b5f5-9573d6876fcc",
   "metadata": {},
   "source": [
    "# Read data"
   ]
  },
  {
   "cell_type": "code",
   "execution_count": 7,
   "id": "996be8d3-0512-487a-9e3b-003b160fd731",
   "metadata": {},
   "outputs": [],
   "source": [
    "# Training data\n",
    "training = pd.read_csv('https://github.com/cvermno/ML-Project/raw/main/Datasets/training_data.csv')\n",
    "# Test data\n",
    "test = pd.read_csv('https://github.com/cvermno/ML-Project/raw/main/Datasets/unlabelled_test_data.csv')"
   ]
  },
  {
   "cell_type": "markdown",
   "id": "53727f3e-b3ba-497a-a4c5-cd57736c0309",
   "metadata": {},
   "source": [
    "## Getting to know the data"
   ]
  },
  {
   "cell_type": "code",
   "execution_count": 9,
   "id": "26ead936-f24f-4c6a-8447-32b02208e4b8",
   "metadata": {},
   "outputs": [
    {
     "data": {
      "text/html": [
       "<div>\n",
       "<style scoped>\n",
       "    .dataframe tbody tr th:only-of-type {\n",
       "        vertical-align: middle;\n",
       "    }\n",
       "\n",
       "    .dataframe tbody tr th {\n",
       "        vertical-align: top;\n",
       "    }\n",
       "\n",
       "    .dataframe thead th {\n",
       "        text-align: right;\n",
       "    }\n",
       "</style>\n",
       "<table border=\"1\" class=\"dataframe\">\n",
       "  <thead>\n",
       "    <tr style=\"text-align: right;\">\n",
       "      <th></th>\n",
       "      <th>id</th>\n",
       "      <th>sentence</th>\n",
       "      <th>difficulty</th>\n",
       "    </tr>\n",
       "  </thead>\n",
       "  <tbody>\n",
       "    <tr>\n",
       "      <th>0</th>\n",
       "      <td>0</td>\n",
       "      <td>Les coûts kilométriques réels peuvent diverger...</td>\n",
       "      <td>C1</td>\n",
       "    </tr>\n",
       "    <tr>\n",
       "      <th>1</th>\n",
       "      <td>1</td>\n",
       "      <td>Le bleu, c'est ma couleur préférée mais je n'a...</td>\n",
       "      <td>A1</td>\n",
       "    </tr>\n",
       "    <tr>\n",
       "      <th>2</th>\n",
       "      <td>2</td>\n",
       "      <td>Le test de niveau en français est sur le site ...</td>\n",
       "      <td>A1</td>\n",
       "    </tr>\n",
       "    <tr>\n",
       "      <th>3</th>\n",
       "      <td>3</td>\n",
       "      <td>Est-ce que ton mari est aussi de Boston?</td>\n",
       "      <td>A1</td>\n",
       "    </tr>\n",
       "    <tr>\n",
       "      <th>4</th>\n",
       "      <td>4</td>\n",
       "      <td>Dans les écoles de commerce, dans les couloirs...</td>\n",
       "      <td>B1</td>\n",
       "    </tr>\n",
       "    <tr>\n",
       "      <th>...</th>\n",
       "      <td>...</td>\n",
       "      <td>...</td>\n",
       "      <td>...</td>\n",
       "    </tr>\n",
       "    <tr>\n",
       "      <th>4795</th>\n",
       "      <td>4795</td>\n",
       "      <td>C'est pourquoi, il décida de remplacer les hab...</td>\n",
       "      <td>B2</td>\n",
       "    </tr>\n",
       "    <tr>\n",
       "      <th>4796</th>\n",
       "      <td>4796</td>\n",
       "      <td>Il avait une de ces pâleurs splendides qui don...</td>\n",
       "      <td>C1</td>\n",
       "    </tr>\n",
       "    <tr>\n",
       "      <th>4797</th>\n",
       "      <td>4797</td>\n",
       "      <td>Et le premier samedi de chaque mois, venez ren...</td>\n",
       "      <td>A2</td>\n",
       "    </tr>\n",
       "    <tr>\n",
       "      <th>4798</th>\n",
       "      <td>4798</td>\n",
       "      <td>Les coûts liés à la journalisation n'étant pas...</td>\n",
       "      <td>C2</td>\n",
       "    </tr>\n",
       "    <tr>\n",
       "      <th>4799</th>\n",
       "      <td>4799</td>\n",
       "      <td>Sur le sable, la mer haletait de toute la resp...</td>\n",
       "      <td>C2</td>\n",
       "    </tr>\n",
       "  </tbody>\n",
       "</table>\n",
       "<p>4800 rows × 3 columns</p>\n",
       "</div>"
      ],
      "text/plain": [
       "        id                                           sentence difficulty\n",
       "0        0  Les coûts kilométriques réels peuvent diverger...         C1\n",
       "1        1  Le bleu, c'est ma couleur préférée mais je n'a...         A1\n",
       "2        2  Le test de niveau en français est sur le site ...         A1\n",
       "3        3           Est-ce que ton mari est aussi de Boston?         A1\n",
       "4        4  Dans les écoles de commerce, dans les couloirs...         B1\n",
       "...    ...                                                ...        ...\n",
       "4795  4795  C'est pourquoi, il décida de remplacer les hab...         B2\n",
       "4796  4796  Il avait une de ces pâleurs splendides qui don...         C1\n",
       "4797  4797  Et le premier samedi de chaque mois, venez ren...         A2\n",
       "4798  4798  Les coûts liés à la journalisation n'étant pas...         C2\n",
       "4799  4799  Sur le sable, la mer haletait de toute la resp...         C2\n",
       "\n",
       "[4800 rows x 3 columns]"
      ]
     },
     "execution_count": 9,
     "metadata": {},
     "output_type": "execute_result"
    }
   ],
   "source": [
    "training"
   ]
  },
  {
   "cell_type": "markdown",
   "id": "fe669998-5891-4db8-bbf8-fe94a103eceb",
   "metadata": {},
   "source": [
    "### Exploring the base rate"
   ]
  },
  {
   "cell_type": "code",
   "execution_count": 11,
   "id": "7ea19fd4-8196-4d70-abda-f9415f71982e",
   "metadata": {},
   "outputs": [
    {
     "name": "stdout",
     "output_type": "stream",
     "text": [
      "difficulty\n",
      "A1    813\n",
      "C2    807\n",
      "C1    798\n",
      "B1    795\n",
      "A2    795\n",
      "B2    792\n",
      "Name: count, dtype: int64\n",
      "difficulty\n",
      "A1    16.9375\n",
      "C2    16.8125\n",
      "C1    16.6250\n",
      "B1    16.5625\n",
      "A2    16.5625\n",
      "B2    16.5000\n",
      "Name: proportion, dtype: float64\n"
     ]
    }
   ],
   "source": [
    "training_difficulty = training['difficulty'].value_counts()\n",
    "training_difficulty_100 = training['difficulty'].value_counts(normalize=True)*100\n",
    "print(training_difficulty)\n",
    "print(training_difficulty_100)"
   ]
  },
  {
   "cell_type": "code",
   "execution_count": 12,
   "id": "99a43f3f-c9e8-47c6-9c19-07f661bd6de2",
   "metadata": {},
   "outputs": [
    {
     "data": {
      "text/html": [
       "<div>\n",
       "<style scoped>\n",
       "    .dataframe tbody tr th:only-of-type {\n",
       "        vertical-align: middle;\n",
       "    }\n",
       "\n",
       "    .dataframe tbody tr th {\n",
       "        vertical-align: top;\n",
       "    }\n",
       "\n",
       "    .dataframe thead th {\n",
       "        text-align: right;\n",
       "    }\n",
       "</style>\n",
       "<table border=\"1\" class=\"dataframe\">\n",
       "  <thead>\n",
       "    <tr style=\"text-align: right;\">\n",
       "      <th></th>\n",
       "      <th>id</th>\n",
       "      <th>sentence</th>\n",
       "    </tr>\n",
       "  </thead>\n",
       "  <tbody>\n",
       "    <tr>\n",
       "      <th>0</th>\n",
       "      <td>0</td>\n",
       "      <td>Nous dûmes nous excuser des propos que nous eû...</td>\n",
       "    </tr>\n",
       "    <tr>\n",
       "      <th>1</th>\n",
       "      <td>1</td>\n",
       "      <td>Vous ne pouvez pas savoir le plaisir que j'ai ...</td>\n",
       "    </tr>\n",
       "    <tr>\n",
       "      <th>2</th>\n",
       "      <td>2</td>\n",
       "      <td>Et, paradoxalement, boire froid n'est pas la b...</td>\n",
       "    </tr>\n",
       "    <tr>\n",
       "      <th>3</th>\n",
       "      <td>3</td>\n",
       "      <td>Ce n'est pas étonnant, car c'est une saison my...</td>\n",
       "    </tr>\n",
       "    <tr>\n",
       "      <th>4</th>\n",
       "      <td>4</td>\n",
       "      <td>Le corps de Golo lui-même, d'une essence aussi...</td>\n",
       "    </tr>\n",
       "    <tr>\n",
       "      <th>...</th>\n",
       "      <td>...</td>\n",
       "      <td>...</td>\n",
       "    </tr>\n",
       "    <tr>\n",
       "      <th>1195</th>\n",
       "      <td>1195</td>\n",
       "      <td>C'est un phénomène qui trouve une accélération...</td>\n",
       "    </tr>\n",
       "    <tr>\n",
       "      <th>1196</th>\n",
       "      <td>1196</td>\n",
       "      <td>Je vais parler au serveur et voir si on peut d...</td>\n",
       "    </tr>\n",
       "    <tr>\n",
       "      <th>1197</th>\n",
       "      <td>1197</td>\n",
       "      <td>Il n'était pas comme tant de gens qui par pare...</td>\n",
       "    </tr>\n",
       "    <tr>\n",
       "      <th>1198</th>\n",
       "      <td>1198</td>\n",
       "      <td>Ils deviennent dangereux pour notre économie.</td>\n",
       "    </tr>\n",
       "    <tr>\n",
       "      <th>1199</th>\n",
       "      <td>1199</td>\n",
       "      <td>Son succès a généré beaucoup de réactions néga...</td>\n",
       "    </tr>\n",
       "  </tbody>\n",
       "</table>\n",
       "<p>1200 rows × 2 columns</p>\n",
       "</div>"
      ],
      "text/plain": [
       "        id                                           sentence\n",
       "0        0  Nous dûmes nous excuser des propos que nous eû...\n",
       "1        1  Vous ne pouvez pas savoir le plaisir que j'ai ...\n",
       "2        2  Et, paradoxalement, boire froid n'est pas la b...\n",
       "3        3  Ce n'est pas étonnant, car c'est une saison my...\n",
       "4        4  Le corps de Golo lui-même, d'une essence aussi...\n",
       "...    ...                                                ...\n",
       "1195  1195  C'est un phénomène qui trouve une accélération...\n",
       "1196  1196  Je vais parler au serveur et voir si on peut d...\n",
       "1197  1197  Il n'était pas comme tant de gens qui par pare...\n",
       "1198  1198      Ils deviennent dangereux pour notre économie.\n",
       "1199  1199  Son succès a généré beaucoup de réactions néga...\n",
       "\n",
       "[1200 rows x 2 columns]"
      ]
     },
     "execution_count": 12,
     "metadata": {},
     "output_type": "execute_result"
    }
   ],
   "source": [
    "test"
   ]
  },
  {
   "cell_type": "code",
   "execution_count": 13,
   "id": "e7423773-dc63-4b9f-bdf5-47349b501549",
   "metadata": {},
   "outputs": [
    {
     "data": {
      "text/plain": [
       "['C1', 'A1', 'B1', 'A2', 'B2', 'C2']"
      ]
     },
     "execution_count": 13,
     "metadata": {},
     "output_type": "execute_result"
    }
   ],
   "source": [
    "labels = training['difficulty'].unique().tolist()\n",
    "labels"
   ]
  },
  {
   "cell_type": "markdown",
   "id": "f47ea689-afed-4e40-ac6c-3f23936ff904",
   "metadata": {},
   "source": [
    "# Tokenizing and Lemmatization"
   ]
  },
  {
   "cell_type": "code",
   "execution_count": 15,
   "id": "1b08cdf7-e755-4815-a4c6-6f54a5f90848",
   "metadata": {
    "tags": []
   },
   "outputs": [],
   "source": [
    "# Create tokenizer function for preprocessing\n",
    "def spacy_tokenizer(text):\n",
    "\n",
    "    # Define stopwords, punctuation, and numbers\n",
    "    stop_words = stopwords.words('french')\n",
    "    punctuations = string.punctuation +'–' + '—'\n",
    "    numbers = \"0123456789\"\n",
    "\n",
    "    # Create spacy object\n",
    "    mytokens = nlp(text)\n",
    "\n",
    "    # Lemmatize each token and convert each token into lowercase\n",
    "    mytokens = ([ word.lemma_.lower().strip() for word in mytokens ])\n",
    "\n",
    "    # Remove stop words and punctuation\n",
    "    mytokens = ([ word for word in mytokens \n",
    "                 if word not in stop_words and word not in punctuations ])\n",
    "\n",
    "    # Remove sufix like \".[1\" in \"experience.[1\"\n",
    "    mytokens_2 = []\n",
    "    for word in mytokens:\n",
    "        for char in word:\n",
    "            if (char in punctuations) or (char in numbers):\n",
    "                word = word.replace(char, \"\")\n",
    "        if word != \"\":\n",
    "            mytokens_2.append(word)\n",
    "\n",
    "    # Return preprocessed list of tokens\n",
    "    return mytokens_2\n"
   ]
  },
  {
   "cell_type": "code",
   "execution_count": 16,
   "id": "ec02732d-569c-407f-9936-c1180e908ecf",
   "metadata": {
    "tags": []
   },
   "outputs": [
    {
     "data": {
      "text/html": [
       "<div>\n",
       "<style scoped>\n",
       "    .dataframe tbody tr th:only-of-type {\n",
       "        vertical-align: middle;\n",
       "    }\n",
       "\n",
       "    .dataframe tbody tr th {\n",
       "        vertical-align: top;\n",
       "    }\n",
       "\n",
       "    .dataframe thead th {\n",
       "        text-align: right;\n",
       "    }\n",
       "</style>\n",
       "<table border=\"1\" class=\"dataframe\">\n",
       "  <thead>\n",
       "    <tr style=\"text-align: right;\">\n",
       "      <th></th>\n",
       "      <th>id</th>\n",
       "      <th>sentence</th>\n",
       "      <th>difficulty</th>\n",
       "      <th>processed_sentence</th>\n",
       "    </tr>\n",
       "  </thead>\n",
       "  <tbody>\n",
       "    <tr>\n",
       "      <th>0</th>\n",
       "      <td>0</td>\n",
       "      <td>Les coûts kilométriques réels peuvent diverger...</td>\n",
       "      <td>C1</td>\n",
       "      <td>coût kilométrique réel pouvoir diverger sensib...</td>\n",
       "    </tr>\n",
       "    <tr>\n",
       "      <th>1</th>\n",
       "      <td>1</td>\n",
       "      <td>Le bleu, c'est ma couleur préférée mais je n'a...</td>\n",
       "      <td>A1</td>\n",
       "      <td>bleu être couleur préférer aimer vert</td>\n",
       "    </tr>\n",
       "    <tr>\n",
       "      <th>2</th>\n",
       "      <td>2</td>\n",
       "      <td>Le test de niveau en français est sur le site ...</td>\n",
       "      <td>A1</td>\n",
       "      <td>test niveau français être site internet école</td>\n",
       "    </tr>\n",
       "    <tr>\n",
       "      <th>3</th>\n",
       "      <td>3</td>\n",
       "      <td>Est-ce que ton mari est aussi de Boston?</td>\n",
       "      <td>A1</td>\n",
       "      <td>ce mari être aussi boston</td>\n",
       "    </tr>\n",
       "    <tr>\n",
       "      <th>4</th>\n",
       "      <td>4</td>\n",
       "      <td>Dans les écoles de commerce, dans les couloirs...</td>\n",
       "      <td>B1</td>\n",
       "      <td>école commerce couloir place financier arriver...</td>\n",
       "    </tr>\n",
       "  </tbody>\n",
       "</table>\n",
       "</div>"
      ],
      "text/plain": [
       "   id                                           sentence difficulty  \\\n",
       "0   0  Les coûts kilométriques réels peuvent diverger...         C1   \n",
       "1   1  Le bleu, c'est ma couleur préférée mais je n'a...         A1   \n",
       "2   2  Le test de niveau en français est sur le site ...         A1   \n",
       "3   3           Est-ce que ton mari est aussi de Boston?         A1   \n",
       "4   4  Dans les écoles de commerce, dans les couloirs...         B1   \n",
       "\n",
       "                                  processed_sentence  \n",
       "0  coût kilométrique réel pouvoir diverger sensib...  \n",
       "1              bleu être couleur préférer aimer vert  \n",
       "2      test niveau français être site internet école  \n",
       "3                          ce mari être aussi boston  \n",
       "4  école commerce couloir place financier arriver...  "
      ]
     },
     "execution_count": 16,
     "metadata": {},
     "output_type": "execute_result"
    }
   ],
   "source": [
    "# Tokenize texts in training and test data sets\n",
    "#processed_texts = [spacy_tokenizer(text) for text in texts]\n",
    "training['processed_sentence'] = training['sentence'].apply(spacy_tokenizer)\n",
    "training['processed_sentence'] = training['processed_sentence'].apply(lambda x: ' '.join(x))\n",
    "training.head(5)\n",
    "#for processed_text in processed_texts:\n",
    "#    print(processed_text[:20])"
   ]
  },
  {
   "cell_type": "code",
   "execution_count": 17,
   "id": "5023a8fe-3a2e-47fd-85eb-36cb694cf724",
   "metadata": {
    "tags": []
   },
   "outputs": [
    {
     "data": {
      "text/html": [
       "<div>\n",
       "<style scoped>\n",
       "    .dataframe tbody tr th:only-of-type {\n",
       "        vertical-align: middle;\n",
       "    }\n",
       "\n",
       "    .dataframe tbody tr th {\n",
       "        vertical-align: top;\n",
       "    }\n",
       "\n",
       "    .dataframe thead th {\n",
       "        text-align: right;\n",
       "    }\n",
       "</style>\n",
       "<table border=\"1\" class=\"dataframe\">\n",
       "  <thead>\n",
       "    <tr style=\"text-align: right;\">\n",
       "      <th></th>\n",
       "      <th>id</th>\n",
       "      <th>sentence</th>\n",
       "      <th>processed_sentence</th>\n",
       "    </tr>\n",
       "  </thead>\n",
       "  <tbody>\n",
       "    <tr>\n",
       "      <th>0</th>\n",
       "      <td>0</td>\n",
       "      <td>Nous dûmes nous excuser des propos que nous eû...</td>\n",
       "      <td>dûme excuser propos avoir prononcer</td>\n",
       "    </tr>\n",
       "    <tr>\n",
       "      <th>1</th>\n",
       "      <td>1</td>\n",
       "      <td>Vous ne pouvez pas savoir le plaisir que j'ai ...</td>\n",
       "      <td>pouvoir savoir plaisir avoir recevoir bon nouveau</td>\n",
       "    </tr>\n",
       "    <tr>\n",
       "      <th>2</th>\n",
       "      <td>2</td>\n",
       "      <td>Et, paradoxalement, boire froid n'est pas la b...</td>\n",
       "      <td>paradoxalement boire froid être bon parade</td>\n",
       "    </tr>\n",
       "    <tr>\n",
       "      <th>3</th>\n",
       "      <td>3</td>\n",
       "      <td>Ce n'est pas étonnant, car c'est une saison my...</td>\n",
       "      <td>être étonnant car être saison mystérieux</td>\n",
       "    </tr>\n",
       "    <tr>\n",
       "      <th>4</th>\n",
       "      <td>4</td>\n",
       "      <td>Le corps de Golo lui-même, d'une essence aussi...</td>\n",
       "      <td>corps golo luimême essence aussi surnaturel ce...</td>\n",
       "    </tr>\n",
       "  </tbody>\n",
       "</table>\n",
       "</div>"
      ],
      "text/plain": [
       "   id                                           sentence  \\\n",
       "0   0  Nous dûmes nous excuser des propos que nous eû...   \n",
       "1   1  Vous ne pouvez pas savoir le plaisir que j'ai ...   \n",
       "2   2  Et, paradoxalement, boire froid n'est pas la b...   \n",
       "3   3  Ce n'est pas étonnant, car c'est une saison my...   \n",
       "4   4  Le corps de Golo lui-même, d'une essence aussi...   \n",
       "\n",
       "                                  processed_sentence  \n",
       "0                dûme excuser propos avoir prononcer  \n",
       "1  pouvoir savoir plaisir avoir recevoir bon nouveau  \n",
       "2         paradoxalement boire froid être bon parade  \n",
       "3           être étonnant car être saison mystérieux  \n",
       "4  corps golo luimême essence aussi surnaturel ce...  "
      ]
     },
     "execution_count": 17,
     "metadata": {},
     "output_type": "execute_result"
    }
   ],
   "source": [
    "test['processed_sentence'] = test['sentence'].apply(spacy_tokenizer)\n",
    "test['processed_sentence'] = test['processed_sentence'].apply(lambda x: ' '.join(x))\n",
    "test.head(5)"
   ]
  },
  {
   "cell_type": "markdown",
   "id": "63eed668-a336-44ea-bb61-8346f8dd28b8",
   "metadata": {
    "id": "hwZmnnd33ZsR"
   },
   "source": [
    "### Split and transform"
   ]
  },
  {
   "cell_type": "code",
   "execution_count": 19,
   "id": "bae5311d-cf34-4600-8074-02d6a5573ad2",
   "metadata": {
    "id": "arQknfhW3Tri",
    "tags": []
   },
   "outputs": [],
   "source": [
    "# split your data into features (X) and target variable (y)\n",
    "X = training['processed_sentence']\n",
    "y = training['difficulty']"
   ]
  },
  {
   "cell_type": "code",
   "execution_count": 20,
   "id": "172554f2-c6ca-4e2e-85cb-0538ccc32727",
   "metadata": {
    "id": "y687hkyd5e1S",
    "tags": []
   },
   "outputs": [],
   "source": [
    "# split the dataset into training and testing sets\n",
    "X_train, X_test, y_train, y_test = train_test_split(X, y, test_size=0.2, random_state= 123)"
   ]
  },
  {
   "cell_type": "code",
   "execution_count": 21,
   "id": "0cb68492-41c9-472f-a195-e7e3e45becd0",
   "metadata": {
    "id": "c94CgpWY5rhl",
    "tags": []
   },
   "outputs": [],
   "source": [
    "# vectorization\n",
    "#from sklearn.feature_extraction.text import CountVectorizer, TfidfVectorizer\n",
    "#french_stop_words = stopwords.words('french')\n",
    "\n",
    "#tfidf = TfidfVectorizer(ngram_range=(1, 1), stop_words=french_stop_words)\n",
    "tfidf = TfidfVectorizer(ngram_range=(1, 1))\n",
    "X_train_tfidf = tfidf.fit_transform(X_train)\n",
    "X_test_tfidf = tfidf.transform(X_test)"
   ]
  },
  {
   "cell_type": "markdown",
   "id": "131315c0-cb4d-49a8-bcff-b8b0fabdd5c4",
   "metadata": {},
   "source": [
    "# Logistic Regresssion"
   ]
  },
  {
   "cell_type": "markdown",
   "id": "25828425-6528-48ff-9208-71a35d1c9f7e",
   "metadata": {},
   "source": [
    "Logistic Regression predicts binary outcomes by estimating probabilities using a logistic function. It fits a curve to decide classes. Example: Predicting whether an email is spam."
   ]
  },
  {
   "cell_type": "code",
   "execution_count": 24,
   "id": "94638924-fc93-43e8-83aa-31bf280ff614",
   "metadata": {
    "colab": {
     "base_uri": "https://localhost:8080/",
     "height": 75
    },
    "id": "DrrJ3aNt7Pqx",
    "outputId": "d82ac9bb-e597-49d8-e3ff-45afe303c6bf",
    "tags": []
   },
   "outputs": [
    {
     "data": {
      "text/html": [
       "<style>#sk-container-id-1 {color: black;background-color: white;}#sk-container-id-1 pre{padding: 0;}#sk-container-id-1 div.sk-toggleable {background-color: white;}#sk-container-id-1 label.sk-toggleable__label {cursor: pointer;display: block;width: 100%;margin-bottom: 0;padding: 0.3em;box-sizing: border-box;text-align: center;}#sk-container-id-1 label.sk-toggleable__label-arrow:before {content: \"▸\";float: left;margin-right: 0.25em;color: #696969;}#sk-container-id-1 label.sk-toggleable__label-arrow:hover:before {color: black;}#sk-container-id-1 div.sk-estimator:hover label.sk-toggleable__label-arrow:before {color: black;}#sk-container-id-1 div.sk-toggleable__content {max-height: 0;max-width: 0;overflow: hidden;text-align: left;background-color: #f0f8ff;}#sk-container-id-1 div.sk-toggleable__content pre {margin: 0.2em;color: black;border-radius: 0.25em;background-color: #f0f8ff;}#sk-container-id-1 input.sk-toggleable__control:checked~div.sk-toggleable__content {max-height: 200px;max-width: 100%;overflow: auto;}#sk-container-id-1 input.sk-toggleable__control:checked~label.sk-toggleable__label-arrow:before {content: \"▾\";}#sk-container-id-1 div.sk-estimator input.sk-toggleable__control:checked~label.sk-toggleable__label {background-color: #d4ebff;}#sk-container-id-1 div.sk-label input.sk-toggleable__control:checked~label.sk-toggleable__label {background-color: #d4ebff;}#sk-container-id-1 input.sk-hidden--visually {border: 0;clip: rect(1px 1px 1px 1px);clip: rect(1px, 1px, 1px, 1px);height: 1px;margin: -1px;overflow: hidden;padding: 0;position: absolute;width: 1px;}#sk-container-id-1 div.sk-estimator {font-family: monospace;background-color: #f0f8ff;border: 1px dotted black;border-radius: 0.25em;box-sizing: border-box;margin-bottom: 0.5em;}#sk-container-id-1 div.sk-estimator:hover {background-color: #d4ebff;}#sk-container-id-1 div.sk-parallel-item::after {content: \"\";width: 100%;border-bottom: 1px solid gray;flex-grow: 1;}#sk-container-id-1 div.sk-label:hover label.sk-toggleable__label {background-color: #d4ebff;}#sk-container-id-1 div.sk-serial::before {content: \"\";position: absolute;border-left: 1px solid gray;box-sizing: border-box;top: 0;bottom: 0;left: 50%;z-index: 0;}#sk-container-id-1 div.sk-serial {display: flex;flex-direction: column;align-items: center;background-color: white;padding-right: 0.2em;padding-left: 0.2em;position: relative;}#sk-container-id-1 div.sk-item {position: relative;z-index: 1;}#sk-container-id-1 div.sk-parallel {display: flex;align-items: stretch;justify-content: center;background-color: white;position: relative;}#sk-container-id-1 div.sk-item::before, #sk-container-id-1 div.sk-parallel-item::before {content: \"\";position: absolute;border-left: 1px solid gray;box-sizing: border-box;top: 0;bottom: 0;left: 50%;z-index: -1;}#sk-container-id-1 div.sk-parallel-item {display: flex;flex-direction: column;z-index: 1;position: relative;background-color: white;}#sk-container-id-1 div.sk-parallel-item:first-child::after {align-self: flex-end;width: 50%;}#sk-container-id-1 div.sk-parallel-item:last-child::after {align-self: flex-start;width: 50%;}#sk-container-id-1 div.sk-parallel-item:only-child::after {width: 0;}#sk-container-id-1 div.sk-dashed-wrapped {border: 1px dashed gray;margin: 0 0.4em 0.5em 0.4em;box-sizing: border-box;padding-bottom: 0.4em;background-color: white;}#sk-container-id-1 div.sk-label label {font-family: monospace;font-weight: bold;display: inline-block;line-height: 1.2em;}#sk-container-id-1 div.sk-label-container {text-align: center;}#sk-container-id-1 div.sk-container {/* jupyter's `normalize.less` sets `[hidden] { display: none; }` but bootstrap.min.css set `[hidden] { display: none !important; }` so we also need the `!important` here to be able to override the default hidden behavior on the sphinx rendered scikit-learn.org. See: https://github.com/scikit-learn/scikit-learn/issues/21755 */display: inline-block !important;position: relative;}#sk-container-id-1 div.sk-text-repr-fallback {display: none;}</style><div id=\"sk-container-id-1\" class=\"sk-top-container\"><div class=\"sk-text-repr-fallback\"><pre>LogisticRegression()</pre><b>In a Jupyter environment, please rerun this cell to show the HTML representation or trust the notebook. <br />On GitHub, the HTML representation is unable to render, please try loading this page with nbviewer.org.</b></div><div class=\"sk-container\" hidden><div class=\"sk-item\"><div class=\"sk-estimator sk-toggleable\"><input class=\"sk-toggleable__control sk-hidden--visually\" id=\"sk-estimator-id-1\" type=\"checkbox\" checked><label for=\"sk-estimator-id-1\" class=\"sk-toggleable__label sk-toggleable__label-arrow\">LogisticRegression</label><div class=\"sk-toggleable__content\"><pre>LogisticRegression()</pre></div></div></div></div></div>"
      ],
      "text/plain": [
       "LogisticRegression()"
      ]
     },
     "execution_count": 24,
     "metadata": {},
     "output_type": "execute_result"
    }
   ],
   "source": [
    "#from sklearn.linear_model import LogisticRegression\n",
    "\n",
    "# initialize and train the Logistic Regression model\n",
    "model_LR = LogisticRegression()\n",
    "model_LR.fit(X_train_tfidf, y_train)"
   ]
  },
  {
   "cell_type": "code",
   "execution_count": 25,
   "id": "6521de1f-d4cc-413c-8cc7-968d9a74c3fe",
   "metadata": {
    "id": "oMel0wgb7bX0",
    "tags": []
   },
   "outputs": [],
   "source": [
    "# predict using the trained model on the scaled test data\n",
    "y_pred_LR = model_LR.predict(X_test_tfidf)"
   ]
  },
  {
   "cell_type": "code",
   "execution_count": 26,
   "id": "3cebfad3-7e25-49ec-ac85-d0dbcafd6b71",
   "metadata": {
    "colab": {
     "base_uri": "https://localhost:8080/",
     "height": 424
    },
    "id": "UObAnFGx-Rdn",
    "outputId": "ab0aa809-b49a-4ef6-8dc9-462b54324d0f",
    "tags": []
   },
   "outputs": [
    {
     "data": {
      "text/html": [
       "<div>\n",
       "<style scoped>\n",
       "    .dataframe tbody tr th:only-of-type {\n",
       "        vertical-align: middle;\n",
       "    }\n",
       "\n",
       "    .dataframe tbody tr th {\n",
       "        vertical-align: top;\n",
       "    }\n",
       "\n",
       "    .dataframe thead th {\n",
       "        text-align: right;\n",
       "    }\n",
       "</style>\n",
       "<table border=\"1\" class=\"dataframe\">\n",
       "  <thead>\n",
       "    <tr style=\"text-align: right;\">\n",
       "      <th></th>\n",
       "      <th>id</th>\n",
       "      <th>difficulty</th>\n",
       "    </tr>\n",
       "  </thead>\n",
       "  <tbody>\n",
       "    <tr>\n",
       "      <th>0</th>\n",
       "      <td>3902</td>\n",
       "      <td>A1</td>\n",
       "    </tr>\n",
       "    <tr>\n",
       "      <th>1</th>\n",
       "      <td>2862</td>\n",
       "      <td>A2</td>\n",
       "    </tr>\n",
       "    <tr>\n",
       "      <th>2</th>\n",
       "      <td>3473</td>\n",
       "      <td>B1</td>\n",
       "    </tr>\n",
       "    <tr>\n",
       "      <th>3</th>\n",
       "      <td>4423</td>\n",
       "      <td>A1</td>\n",
       "    </tr>\n",
       "    <tr>\n",
       "      <th>4</th>\n",
       "      <td>608</td>\n",
       "      <td>A2</td>\n",
       "    </tr>\n",
       "    <tr>\n",
       "      <th>...</th>\n",
       "      <td>...</td>\n",
       "      <td>...</td>\n",
       "    </tr>\n",
       "    <tr>\n",
       "      <th>955</th>\n",
       "      <td>1582</td>\n",
       "      <td>A1</td>\n",
       "    </tr>\n",
       "    <tr>\n",
       "      <th>956</th>\n",
       "      <td>1144</td>\n",
       "      <td>B1</td>\n",
       "    </tr>\n",
       "    <tr>\n",
       "      <th>957</th>\n",
       "      <td>790</td>\n",
       "      <td>A2</td>\n",
       "    </tr>\n",
       "    <tr>\n",
       "      <th>958</th>\n",
       "      <td>80</td>\n",
       "      <td>B2</td>\n",
       "    </tr>\n",
       "    <tr>\n",
       "      <th>959</th>\n",
       "      <td>2589</td>\n",
       "      <td>A1</td>\n",
       "    </tr>\n",
       "  </tbody>\n",
       "</table>\n",
       "<p>960 rows × 2 columns</p>\n",
       "</div>"
      ],
      "text/plain": [
       "       id difficulty\n",
       "0    3902         A1\n",
       "1    2862         A2\n",
       "2    3473         B1\n",
       "3    4423         A1\n",
       "4     608         A2\n",
       "..    ...        ...\n",
       "955  1582         A1\n",
       "956  1144         B1\n",
       "957   790         A2\n",
       "958    80         B2\n",
       "959  2589         A1\n",
       "\n",
       "[960 rows x 2 columns]"
      ]
     },
     "execution_count": 26,
     "metadata": {},
     "output_type": "execute_result"
    }
   ],
   "source": [
    "# display y_pred values for each X_test\n",
    "df_pred_LR = pd.DataFrame({'id': X_test.index, 'difficulty': y_pred_LR})\n",
    "df_pred_LR"
   ]
  },
  {
   "cell_type": "markdown",
   "id": "3ce99166-79a9-499a-bd8e-a929fdcc3aff",
   "metadata": {
    "id": "IBdSF3CG_FlI"
   },
   "source": [
    "### Evaluate the model"
   ]
  },
  {
   "cell_type": "code",
   "execution_count": 28,
   "id": "9ada7623-2d3a-4bb2-8895-efca702a2753",
   "metadata": {
    "colab": {
     "base_uri": "https://localhost:8080/"
    },
    "id": "ucM6M_4s_Cd1",
    "outputId": "de805033-7fc3-48f7-e9d2-41e1bed66d11",
    "tags": []
   },
   "outputs": [
    {
     "name": "stdout",
     "output_type": "stream",
     "text": [
      "Accurary of Logistic regression classifier on test set: 0.44\n"
     ]
    }
   ],
   "source": [
    "# calculate the test accuracy\n",
    "accuracy_test_LR = accuracy_score(y_test, y_pred_LR)\n",
    "print(f'Accurary of Logistic regression classifier on test set: {accuracy_test_LR :.2f}')"
   ]
  },
  {
   "cell_type": "code",
   "execution_count": 29,
   "id": "f84488b8-87ff-48c1-99ae-18e9cdc731cf",
   "metadata": {
    "colab": {
     "base_uri": "https://localhost:8080/"
    },
    "id": "80pO1Bs5_pXZ",
    "outputId": "7dab4598-652a-497a-bef2-d1dd452cf65e",
    "tags": []
   },
   "outputs": [
    {
     "name": "stdout",
     "output_type": "stream",
     "text": [
      "              precision    recall  f1-score   support\n",
      "\n",
      "          A1       0.49      0.55      0.52       153\n",
      "          A2       0.39      0.41      0.40       156\n",
      "          B1       0.35      0.44      0.39       153\n",
      "          B2       0.49      0.28      0.36       173\n",
      "          C1       0.47      0.37      0.42       166\n",
      "          C2       0.46      0.57      0.51       159\n",
      "\n",
      "    accuracy                           0.44       960\n",
      "   macro avg       0.44      0.44      0.43       960\n",
      "weighted avg       0.44      0.44      0.43       960\n",
      "\n"
     ]
    }
   ],
   "source": [
    "# display the classification report\n",
    "print(classification_report(y_test,y_pred_LR))"
   ]
  },
  {
   "cell_type": "code",
   "execution_count": 30,
   "id": "d93fdc71-3ffc-4613-a804-0fbd33e116f2",
   "metadata": {
    "colab": {
     "base_uri": "https://localhost:8080/"
    },
    "id": "o5Le6TC7_3n_",
    "outputId": "5ab1def1-eca1-41fc-82dc-a9db040a5d82",
    "tags": []
   },
   "outputs": [
    {
     "name": "stdout",
     "output_type": "stream",
     "text": [
      "Precision: 0.441007199625221\n",
      "Recall: 0.43879641278206954\n",
      "F1-score: 0.4322619042094431\n"
     ]
    }
   ],
   "source": [
    "# record the macro avg values the precision, recall, F1-score\n",
    "precision_LR = precision_score(y_test, y_pred_LR, average='macro')\n",
    "print(\"Precision:\", precision_LR)\n",
    "\n",
    "recall_LR = recall_score(y_test, y_pred_LR, average='macro')\n",
    "print(\"Recall:\", recall_LR)\n",
    "\n",
    "f1_LR = f1_score(y_test, y_pred_LR, average='macro')\n",
    "print(\"F1-score:\", f1_LR)"
   ]
  },
  {
   "cell_type": "code",
   "execution_count": 31,
   "id": "9dfe2992-d32c-4c89-91c3-18ec55927309",
   "metadata": {
    "tags": []
   },
   "outputs": [
    {
     "data": {
      "text/plain": [
       "<Figure size 800x600 with 0 Axes>"
      ]
     },
     "metadata": {},
     "output_type": "display_data"
    },
    {
     "data": {
      "image/png": "[encoded data removed]",
      "text/plain": [
       "<Figure size 640x480 with 2 Axes>"
      ]
     },
     "metadata": {},
     "output_type": "display_data"
    }
   ],
   "source": [
    "from sklearn.metrics import ConfusionMatrixDisplay\n",
    "\n",
    "# Calculate the confusion matrix\n",
    "confusion = confusion_matrix(y_test, y_pred_LR)\n",
    "\n",
    "# Plot confusion matrix\n",
    "plt.figure(figsize=(8, 6))\n",
    "disp = ConfusionMatrixDisplay(confusion_matrix=confusion, display_labels=np.unique(y_test))\n",
    "disp.plot(cmap='Blues', values_format='g')\n",
    "plt.xlabel('Predicted')\n",
    "plt.ylabel('True labels')\n",
    "plt.title('Confusion Matrix Heatmap')\n",
    "plt.show()\n"
   ]
  },
  {
   "cell_type": "markdown",
   "id": "8165f578-3c00-4c35-af06-a0b5b258d804",
   "metadata": {
    "id": "PLYyhy9pAzG2"
   },
   "source": [
    "### Train on the full training data, test on the unlabelled test data"
   ]
  },
  {
   "cell_type": "code",
   "execution_count": 33,
   "id": "4b49a96d-24bb-4df1-8b0a-97334547e18f",
   "metadata": {
    "id": "QKvRn6lZAyB2",
    "tags": []
   },
   "outputs": [],
   "source": [
    "# split your data into features (X) and target variable (y)\n",
    "X = training['processed_sentence']\n",
    "y = training['difficulty']\n",
    "\n",
    "# define test data\n",
    "X_full_test = test['processed_sentence']\n",
    "\n",
    "# vectorization\n",
    "#tfidf = TfidfVectorizer(ngram_range=(1, 1), stop_words=french_stop_words)\n",
    "#tfidf = TfidfVectorizer()\n",
    "X_full_train_tfidf = tfidf.fit_transform(X)\n",
    "X_full_test_tfidf = tfidf.transform(X_full_test)"
   ]
  },
  {
   "cell_type": "code",
   "execution_count": 34,
   "id": "8365c6f2-bd59-4392-805f-c851095b11ad",
   "metadata": {
    "colab": {
     "base_uri": "https://localhost:8080/",
     "height": 75
    },
    "id": "FB5_VGBiBhfW",
    "outputId": "4c0b34ca-5bc0-416d-eae1-98c37e25b379",
    "tags": []
   },
   "outputs": [
    {
     "data": {
      "text/html": [
       "<style>#sk-container-id-2 {color: black;background-color: white;}#sk-container-id-2 pre{padding: 0;}#sk-container-id-2 div.sk-toggleable {background-color: white;}#sk-container-id-2 label.sk-toggleable__label {cursor: pointer;display: block;width: 100%;margin-bottom: 0;padding: 0.3em;box-sizing: border-box;text-align: center;}#sk-container-id-2 label.sk-toggleable__label-arrow:before {content: \"▸\";float: left;margin-right: 0.25em;color: #696969;}#sk-container-id-2 label.sk-toggleable__label-arrow:hover:before {color: black;}#sk-container-id-2 div.sk-estimator:hover label.sk-toggleable__label-arrow:before {color: black;}#sk-container-id-2 div.sk-toggleable__content {max-height: 0;max-width: 0;overflow: hidden;text-align: left;background-color: #f0f8ff;}#sk-container-id-2 div.sk-toggleable__content pre {margin: 0.2em;color: black;border-radius: 0.25em;background-color: #f0f8ff;}#sk-container-id-2 input.sk-toggleable__control:checked~div.sk-toggleable__content {max-height: 200px;max-width: 100%;overflow: auto;}#sk-container-id-2 input.sk-toggleable__control:checked~label.sk-toggleable__label-arrow:before {content: \"▾\";}#sk-container-id-2 div.sk-estimator input.sk-toggleable__control:checked~label.sk-toggleable__label {background-color: #d4ebff;}#sk-container-id-2 div.sk-label input.sk-toggleable__control:checked~label.sk-toggleable__label {background-color: #d4ebff;}#sk-container-id-2 input.sk-hidden--visually {border: 0;clip: rect(1px 1px 1px 1px);clip: rect(1px, 1px, 1px, 1px);height: 1px;margin: -1px;overflow: hidden;padding: 0;position: absolute;width: 1px;}#sk-container-id-2 div.sk-estimator {font-family: monospace;background-color: #f0f8ff;border: 1px dotted black;border-radius: 0.25em;box-sizing: border-box;margin-bottom: 0.5em;}#sk-container-id-2 div.sk-estimator:hover {background-color: #d4ebff;}#sk-container-id-2 div.sk-parallel-item::after {content: \"\";width: 100%;border-bottom: 1px solid gray;flex-grow: 1;}#sk-container-id-2 div.sk-label:hover label.sk-toggleable__label {background-color: #d4ebff;}#sk-container-id-2 div.sk-serial::before {content: \"\";position: absolute;border-left: 1px solid gray;box-sizing: border-box;top: 0;bottom: 0;left: 50%;z-index: 0;}#sk-container-id-2 div.sk-serial {display: flex;flex-direction: column;align-items: center;background-color: white;padding-right: 0.2em;padding-left: 0.2em;position: relative;}#sk-container-id-2 div.sk-item {position: relative;z-index: 1;}#sk-container-id-2 div.sk-parallel {display: flex;align-items: stretch;justify-content: center;background-color: white;position: relative;}#sk-container-id-2 div.sk-item::before, #sk-container-id-2 div.sk-parallel-item::before {content: \"\";position: absolute;border-left: 1px solid gray;box-sizing: border-box;top: 0;bottom: 0;left: 50%;z-index: -1;}#sk-container-id-2 div.sk-parallel-item {display: flex;flex-direction: column;z-index: 1;position: relative;background-color: white;}#sk-container-id-2 div.sk-parallel-item:first-child::after {align-self: flex-end;width: 50%;}#sk-container-id-2 div.sk-parallel-item:last-child::after {align-self: flex-start;width: 50%;}#sk-container-id-2 div.sk-parallel-item:only-child::after {width: 0;}#sk-container-id-2 div.sk-dashed-wrapped {border: 1px dashed gray;margin: 0 0.4em 0.5em 0.4em;box-sizing: border-box;padding-bottom: 0.4em;background-color: white;}#sk-container-id-2 div.sk-label label {font-family: monospace;font-weight: bold;display: inline-block;line-height: 1.2em;}#sk-container-id-2 div.sk-label-container {text-align: center;}#sk-container-id-2 div.sk-container {/* jupyter's `normalize.less` sets `[hidden] { display: none; }` but bootstrap.min.css set `[hidden] { display: none !important; }` so we also need the `!important` here to be able to override the default hidden behavior on the sphinx rendered scikit-learn.org. See: https://github.com/scikit-learn/scikit-learn/issues/21755 */display: inline-block !important;position: relative;}#sk-container-id-2 div.sk-text-repr-fallback {display: none;}</style><div id=\"sk-container-id-2\" class=\"sk-top-container\"><div class=\"sk-text-repr-fallback\"><pre>LogisticRegression()</pre><b>In a Jupyter environment, please rerun this cell to show the HTML representation or trust the notebook. <br />On GitHub, the HTML representation is unable to render, please try loading this page with nbviewer.org.</b></div><div class=\"sk-container\" hidden><div class=\"sk-item\"><div class=\"sk-estimator sk-toggleable\"><input class=\"sk-toggleable__control sk-hidden--visually\" id=\"sk-estimator-id-2\" type=\"checkbox\" checked><label for=\"sk-estimator-id-2\" class=\"sk-toggleable__label sk-toggleable__label-arrow\">LogisticRegression</label><div class=\"sk-toggleable__content\"><pre>LogisticRegression()</pre></div></div></div></div></div>"
      ],
      "text/plain": [
       "LogisticRegression()"
      ]
     },
     "execution_count": 34,
     "metadata": {},
     "output_type": "execute_result"
    }
   ],
   "source": [
    "# initialize and train the Logistic Regression model\n",
    "model_LR_full = LogisticRegression()\n",
    "model_LR_full.fit(X_full_train_tfidf, y)"
   ]
  },
  {
   "cell_type": "code",
   "execution_count": 35,
   "id": "1da0029f-7bd2-4988-b1d7-0430f8eaa9b6",
   "metadata": {
    "id": "YvYI_HHhCarT",
    "tags": []
   },
   "outputs": [],
   "source": [
    "# predict using the trained model on the scaled test data\n",
    "y_full_pred_LR = model_LR_full.predict(X_full_test_tfidf)"
   ]
  },
  {
   "cell_type": "code",
   "execution_count": 36,
   "id": "3f8e51c0-ce04-4550-b47c-00939e852eb9",
   "metadata": {
    "colab": {
     "base_uri": "https://localhost:8080/",
     "height": 424
    },
    "id": "Rcj_TcMGCrlm",
    "outputId": "b41ad550-88d9-442a-c805-eedcce3ea547",
    "tags": []
   },
   "outputs": [
    {
     "data": {
      "text/html": [
       "<div>\n",
       "<style scoped>\n",
       "    .dataframe tbody tr th:only-of-type {\n",
       "        vertical-align: middle;\n",
       "    }\n",
       "\n",
       "    .dataframe tbody tr th {\n",
       "        vertical-align: top;\n",
       "    }\n",
       "\n",
       "    .dataframe thead th {\n",
       "        text-align: right;\n",
       "    }\n",
       "</style>\n",
       "<table border=\"1\" class=\"dataframe\">\n",
       "  <thead>\n",
       "    <tr style=\"text-align: right;\">\n",
       "      <th></th>\n",
       "      <th>id</th>\n",
       "      <th>difficulty</th>\n",
       "    </tr>\n",
       "  </thead>\n",
       "  <tbody>\n",
       "    <tr>\n",
       "      <th>0</th>\n",
       "      <td>0</td>\n",
       "      <td>B1</td>\n",
       "    </tr>\n",
       "    <tr>\n",
       "      <th>1</th>\n",
       "      <td>1</td>\n",
       "      <td>B1</td>\n",
       "    </tr>\n",
       "    <tr>\n",
       "      <th>2</th>\n",
       "      <td>2</td>\n",
       "      <td>A1</td>\n",
       "    </tr>\n",
       "    <tr>\n",
       "      <th>3</th>\n",
       "      <td>3</td>\n",
       "      <td>A1</td>\n",
       "    </tr>\n",
       "    <tr>\n",
       "      <th>4</th>\n",
       "      <td>4</td>\n",
       "      <td>C2</td>\n",
       "    </tr>\n",
       "    <tr>\n",
       "      <th>...</th>\n",
       "      <td>...</td>\n",
       "      <td>...</td>\n",
       "    </tr>\n",
       "    <tr>\n",
       "      <th>1195</th>\n",
       "      <td>1195</td>\n",
       "      <td>A2</td>\n",
       "    </tr>\n",
       "    <tr>\n",
       "      <th>1196</th>\n",
       "      <td>1196</td>\n",
       "      <td>A2</td>\n",
       "    </tr>\n",
       "    <tr>\n",
       "      <th>1197</th>\n",
       "      <td>1197</td>\n",
       "      <td>C2</td>\n",
       "    </tr>\n",
       "    <tr>\n",
       "      <th>1198</th>\n",
       "      <td>1198</td>\n",
       "      <td>C2</td>\n",
       "    </tr>\n",
       "    <tr>\n",
       "      <th>1199</th>\n",
       "      <td>1199</td>\n",
       "      <td>A2</td>\n",
       "    </tr>\n",
       "  </tbody>\n",
       "</table>\n",
       "<p>1200 rows × 2 columns</p>\n",
       "</div>"
      ],
      "text/plain": [
       "        id difficulty\n",
       "0        0         B1\n",
       "1        1         B1\n",
       "2        2         A1\n",
       "3        3         A1\n",
       "4        4         C2\n",
       "...    ...        ...\n",
       "1195  1195         A2\n",
       "1196  1196         A2\n",
       "1197  1197         C2\n",
       "1198  1198         C2\n",
       "1199  1199         A2\n",
       "\n",
       "[1200 rows x 2 columns]"
      ]
     },
     "execution_count": 36,
     "metadata": {},
     "output_type": "execute_result"
    }
   ],
   "source": [
    "# display y_full_pred values for each X\n",
    "df_full_pred_LR = pd.DataFrame({'id': X_full_test.index, 'difficulty': y_full_pred_LR})\n",
    "df_full_pred_LR"
   ]
  },
  {
   "cell_type": "markdown",
   "id": "c8fbf49f-2198-46b1-96f2-eee17147e83c",
   "metadata": {
    "id": "0KU5Gqm8DrGM"
   },
   "source": [
    "### Export the df as csv for kagle submission"
   ]
  },
  {
   "cell_type": "code",
   "execution_count": 38,
   "id": "48c10889-1930-47a0-b5d7-9ed750482c9e",
   "metadata": {
    "id": "TquAXEMCDw1C",
    "tags": []
   },
   "outputs": [],
   "source": [
    "# Export the dataframe as csv\n",
    "df_full_pred_LR.to_csv(\"df_LR_lemma.csv\", index=False)\n",
    "\n",
    "# Accuracy score based on kagel submission: [df_LR : 0.455,df_LR_lemma : 0.436, "
   ]
  },
  {
   "cell_type": "markdown",
   "id": "6845bc94-1018-4f54-b408-90e16cb676f7",
   "metadata": {
    "id": "Ytx_uID8LQve"
   },
   "source": [
    "# 2. Decision Tree"
   ]
  },
  {
   "cell_type": "markdown",
   "id": "811c1207-2819-479d-a95b-da9bf9473828",
   "metadata": {},
   "source": [
    "Decision Tree splits data by features to make decisions, forming a tree structure. Each node represents a decision point. Example: Loan approval based on financial history."
   ]
  },
  {
   "cell_type": "markdown",
   "id": "3b11abd0-7c69-4d23-975b-98624acbda9f",
   "metadata": {
    "id": "V_cN8ZBDL6qH"
   },
   "source": [
    "### Train on 80% of training data, test on 20% of training data"
   ]
  },
  {
   "cell_type": "code",
   "execution_count": 42,
   "id": "d3e3a84b-df8c-4b89-982e-dc7dbaf1666c",
   "metadata": {
    "tags": []
   },
   "outputs": [],
   "source": [
    "# Initialize the Decision Tree classifier\n",
    "decision_tree_classifier = DecisionTreeClassifier(max_depth=10, random_state=123)\n",
    "\n",
    "# Train the Decision Tree classifier on the training data\n",
    "decision_tree_classifier.fit(X_train_tfidf, y_train)\n",
    "\n",
    "# Make predictions on the test data\n",
    "y_pred_dt = decision_tree_classifier.predict(X_test_tfidf)"
   ]
  },
  {
   "cell_type": "code",
   "execution_count": 43,
   "id": "36131752-01f4-4f66-b52c-da83a4a14d19",
   "metadata": {
    "colab": {
     "base_uri": "https://localhost:8080/",
     "height": 424
    },
    "id": "5s688Eo9MqW_",
    "outputId": "95c1e531-eff2-4454-9f79-8e1d4121fb63",
    "tags": []
   },
   "outputs": [
    {
     "data": {
      "text/html": [
       "<div>\n",
       "<style scoped>\n",
       "    .dataframe tbody tr th:only-of-type {\n",
       "        vertical-align: middle;\n",
       "    }\n",
       "\n",
       "    .dataframe tbody tr th {\n",
       "        vertical-align: top;\n",
       "    }\n",
       "\n",
       "    .dataframe thead th {\n",
       "        text-align: right;\n",
       "    }\n",
       "</style>\n",
       "<table border=\"1\" class=\"dataframe\">\n",
       "  <thead>\n",
       "    <tr style=\"text-align: right;\">\n",
       "      <th></th>\n",
       "      <th>id</th>\n",
       "      <th>difficulty</th>\n",
       "    </tr>\n",
       "  </thead>\n",
       "  <tbody>\n",
       "    <tr>\n",
       "      <th>0</th>\n",
       "      <td>3902</td>\n",
       "      <td>A1</td>\n",
       "    </tr>\n",
       "    <tr>\n",
       "      <th>1</th>\n",
       "      <td>2862</td>\n",
       "      <td>A1</td>\n",
       "    </tr>\n",
       "    <tr>\n",
       "      <th>2</th>\n",
       "      <td>3473</td>\n",
       "      <td>B1</td>\n",
       "    </tr>\n",
       "    <tr>\n",
       "      <th>3</th>\n",
       "      <td>4423</td>\n",
       "      <td>B1</td>\n",
       "    </tr>\n",
       "    <tr>\n",
       "      <th>4</th>\n",
       "      <td>608</td>\n",
       "      <td>A1</td>\n",
       "    </tr>\n",
       "    <tr>\n",
       "      <th>...</th>\n",
       "      <td>...</td>\n",
       "      <td>...</td>\n",
       "    </tr>\n",
       "    <tr>\n",
       "      <th>955</th>\n",
       "      <td>1582</td>\n",
       "      <td>A1</td>\n",
       "    </tr>\n",
       "    <tr>\n",
       "      <th>956</th>\n",
       "      <td>1144</td>\n",
       "      <td>A2</td>\n",
       "    </tr>\n",
       "    <tr>\n",
       "      <th>957</th>\n",
       "      <td>790</td>\n",
       "      <td>A1</td>\n",
       "    </tr>\n",
       "    <tr>\n",
       "      <th>958</th>\n",
       "      <td>80</td>\n",
       "      <td>C1</td>\n",
       "    </tr>\n",
       "    <tr>\n",
       "      <th>959</th>\n",
       "      <td>2589</td>\n",
       "      <td>C1</td>\n",
       "    </tr>\n",
       "  </tbody>\n",
       "</table>\n",
       "<p>960 rows × 2 columns</p>\n",
       "</div>"
      ],
      "text/plain": [
       "       id difficulty\n",
       "0    3902         A1\n",
       "1    2862         A1\n",
       "2    3473         B1\n",
       "3    4423         B1\n",
       "4     608         A1\n",
       "..    ...        ...\n",
       "955  1582         A1\n",
       "956  1144         A2\n",
       "957   790         A1\n",
       "958    80         C1\n",
       "959  2589         C1\n",
       "\n",
       "[960 rows x 2 columns]"
      ]
     },
     "execution_count": 43,
     "metadata": {},
     "output_type": "execute_result"
    }
   ],
   "source": [
    "# display y_pred values for each X_test\n",
    "df_pred_dt = pd.DataFrame({'id': X_test.index, 'difficulty': y_pred_dt})\n",
    "df_pred_dt"
   ]
  },
  {
   "cell_type": "markdown",
   "id": "ca5d8737-cbd3-41bb-ac44-fc5d7f97b069",
   "metadata": {
    "id": "imKUSGmaM0St"
   },
   "source": [
    "### Evaluate the model"
   ]
  },
  {
   "cell_type": "code",
   "execution_count": 45,
   "id": "d8e84d8c-2d3d-49b1-831f-0ace8a865cba",
   "metadata": {
    "colab": {
     "base_uri": "https://localhost:8080/"
    },
    "id": "2Tq0WiMZM16g",
    "outputId": "b2fe8d60-b621-4a1e-d46b-91b2387b9848",
    "tags": []
   },
   "outputs": [
    {
     "name": "stdout",
     "output_type": "stream",
     "text": [
      "Accurary of Decision Tree classifier on test set: 0.23\n"
     ]
    }
   ],
   "source": [
    "# calculate the test accuracy\n",
    "accuracy_test_dt = accuracy_score(y_test, y_pred_dt)\n",
    "print(f'Accurary of Decision Tree classifier on test set: {accuracy_test_dt :.2f}')"
   ]
  },
  {
   "cell_type": "code",
   "execution_count": 46,
   "id": "36c3c87a-0b4f-47ad-930e-cd1b4bc3eedd",
   "metadata": {
    "colab": {
     "base_uri": "https://localhost:8080/"
    },
    "id": "uStrh6vmNFEe",
    "outputId": "ef80a340-d9c1-4428-910d-e72cdd5ad5c6",
    "tags": []
   },
   "outputs": [
    {
     "name": "stdout",
     "output_type": "stream",
     "text": [
      "              precision    recall  f1-score   support\n",
      "\n",
      "          A1       0.27      0.57      0.37       153\n",
      "          A2       0.21      0.13      0.16       156\n",
      "          B1       0.17      0.19      0.18       153\n",
      "          B2       0.23      0.03      0.06       173\n",
      "          C1       0.21      0.43      0.29       166\n",
      "          C2       0.67      0.04      0.07       159\n",
      "\n",
      "    accuracy                           0.23       960\n",
      "   macro avg       0.29      0.23      0.19       960\n",
      "weighted avg       0.29      0.23      0.19       960\n",
      "\n"
     ]
    }
   ],
   "source": [
    "# display the classification report\n",
    "print(classification_report(y_test,y_pred_dt))"
   ]
  },
  {
   "cell_type": "code",
   "execution_count": 47,
   "id": "993c1f7d-8538-427e-a7e2-1199a48f6fe6",
   "metadata": {
    "colab": {
     "base_uri": "https://localhost:8080/"
    },
    "id": "lZjRxSH1NUu-",
    "outputId": "30454be6-0ecc-4a7d-8300-f85818bae022",
    "tags": []
   },
   "outputs": [
    {
     "name": "stdout",
     "output_type": "stream",
     "text": [
      "Precision: 0.29432013852885097\n",
      "Recall: 0.2331563648327338\n",
      "F1-score: 0.18856923789125501\n"
     ]
    }
   ],
   "source": [
    "# record the macro avg values the precision, recall, F1-score\n",
    "precision_dt = precision_score(y_test, y_pred_dt, average='macro')\n",
    "print(\"Precision:\", precision_dt)\n",
    "\n",
    "recall_dt = recall_score(y_test, y_pred_dt, average='macro')\n",
    "print(\"Recall:\", recall_dt)\n",
    "\n",
    "f1_dt = f1_score(y_test, y_pred_dt, average='macro')\n",
    "print(\"F1-score:\", f1_dt)"
   ]
  },
  {
   "cell_type": "code",
   "execution_count": 48,
   "id": "c3d7b7d9-ac57-4080-9e6c-a9c7a9f9b200",
   "metadata": {
    "tags": []
   },
   "outputs": [
    {
     "data": {
      "text/plain": [
       "<Figure size 800x600 with 0 Axes>"
      ]
     },
     "metadata": {},
     "output_type": "display_data"
    },
    {
     "data": {
      "image/png": "[encoded data removed]",
      "text/plain": [
       "<Figure size 640x480 with 2 Axes>"
      ]
     },
     "metadata": {},
     "output_type": "display_data"
    }
   ],
   "source": [
    "from sklearn.metrics import ConfusionMatrixDisplay\n",
    "\n",
    "# Calculate the confusion matrix\n",
    "confusion = confusion_matrix(y_test, y_pred_dt)\n",
    "\n",
    "# Plot confusion matrix\n",
    "plt.figure(figsize=(8, 6))\n",
    "disp = ConfusionMatrixDisplay(confusion_matrix=confusion, display_labels=np.unique(y_test))\n",
    "disp.plot(cmap='Blues', values_format='g')\n",
    "plt.xlabel('Predicted')\n",
    "plt.ylabel('True labels')\n",
    "plt.title('Confusion Matrix Heatmap')\n",
    "plt.show()\n"
   ]
  },
  {
   "cell_type": "markdown",
   "id": "7a9502b9-f923-410e-b082-d50405285852",
   "metadata": {
    "id": "TEZ-pwJ1OLX2"
   },
   "source": [
    "### Train on the full training data, test on the unlabelled test data"
   ]
  },
  {
   "cell_type": "code",
   "execution_count": 50,
   "id": "63a9cbc9-7c55-4b58-846f-38c197963465",
   "metadata": {
    "id": "4F1MKM2kOJ1w",
    "tags": []
   },
   "outputs": [],
   "source": [
    "# split your data into features (X) and target variable (y)\n",
    "X = training['processed_sentence']\n",
    "y = training['difficulty']\n",
    "\n",
    "# define test data\n",
    "X_full_test = test['processed_sentence']\n",
    "\n",
    "# vectorization\n",
    "tfidf = TfidfVectorizer(ngram_range=(1, 1))\n",
    "X_full_train_tfidf = tfidf.fit_transform(X)\n",
    "X_full_test_tfidf = tfidf.transform(X_full_test)"
   ]
  },
  {
   "cell_type": "code",
   "execution_count": 51,
   "id": "d29620f6-5456-41fa-914d-130bb47fbcf6",
   "metadata": {
    "colab": {
     "base_uri": "https://localhost:8080/",
     "height": 75
    },
    "id": "obKJHLBtOcd9",
    "outputId": "ffd9c480-897f-42ce-ce29-f2beaaebf72a",
    "tags": []
   },
   "outputs": [
    {
     "data": {
      "text/html": [
       "<style>#sk-container-id-3 {color: black;background-color: white;}#sk-container-id-3 pre{padding: 0;}#sk-container-id-3 div.sk-toggleable {background-color: white;}#sk-container-id-3 label.sk-toggleable__label {cursor: pointer;display: block;width: 100%;margin-bottom: 0;padding: 0.3em;box-sizing: border-box;text-align: center;}#sk-container-id-3 label.sk-toggleable__label-arrow:before {content: \"▸\";float: left;margin-right: 0.25em;color: #696969;}#sk-container-id-3 label.sk-toggleable__label-arrow:hover:before {color: black;}#sk-container-id-3 div.sk-estimator:hover label.sk-toggleable__label-arrow:before {color: black;}#sk-container-id-3 div.sk-toggleable__content {max-height: 0;max-width: 0;overflow: hidden;text-align: left;background-color: #f0f8ff;}#sk-container-id-3 div.sk-toggleable__content pre {margin: 0.2em;color: black;border-radius: 0.25em;background-color: #f0f8ff;}#sk-container-id-3 input.sk-toggleable__control:checked~div.sk-toggleable__content {max-height: 200px;max-width: 100%;overflow: auto;}#sk-container-id-3 input.sk-toggleable__control:checked~label.sk-toggleable__label-arrow:before {content: \"▾\";}#sk-container-id-3 div.sk-estimator input.sk-toggleable__control:checked~label.sk-toggleable__label {background-color: #d4ebff;}#sk-container-id-3 div.sk-label input.sk-toggleable__control:checked~label.sk-toggleable__label {background-color: #d4ebff;}#sk-container-id-3 input.sk-hidden--visually {border: 0;clip: rect(1px 1px 1px 1px);clip: rect(1px, 1px, 1px, 1px);height: 1px;margin: -1px;overflow: hidden;padding: 0;position: absolute;width: 1px;}#sk-container-id-3 div.sk-estimator {font-family: monospace;background-color: #f0f8ff;border: 1px dotted black;border-radius: 0.25em;box-sizing: border-box;margin-bottom: 0.5em;}#sk-container-id-3 div.sk-estimator:hover {background-color: #d4ebff;}#sk-container-id-3 div.sk-parallel-item::after {content: \"\";width: 100%;border-bottom: 1px solid gray;flex-grow: 1;}#sk-container-id-3 div.sk-label:hover label.sk-toggleable__label {background-color: #d4ebff;}#sk-container-id-3 div.sk-serial::before {content: \"\";position: absolute;border-left: 1px solid gray;box-sizing: border-box;top: 0;bottom: 0;left: 50%;z-index: 0;}#sk-container-id-3 div.sk-serial {display: flex;flex-direction: column;align-items: center;background-color: white;padding-right: 0.2em;padding-left: 0.2em;position: relative;}#sk-container-id-3 div.sk-item {position: relative;z-index: 1;}#sk-container-id-3 div.sk-parallel {display: flex;align-items: stretch;justify-content: center;background-color: white;position: relative;}#sk-container-id-3 div.sk-item::before, #sk-container-id-3 div.sk-parallel-item::before {content: \"\";position: absolute;border-left: 1px solid gray;box-sizing: border-box;top: 0;bottom: 0;left: 50%;z-index: -1;}#sk-container-id-3 div.sk-parallel-item {display: flex;flex-direction: column;z-index: 1;position: relative;background-color: white;}#sk-container-id-3 div.sk-parallel-item:first-child::after {align-self: flex-end;width: 50%;}#sk-container-id-3 div.sk-parallel-item:last-child::after {align-self: flex-start;width: 50%;}#sk-container-id-3 div.sk-parallel-item:only-child::after {width: 0;}#sk-container-id-3 div.sk-dashed-wrapped {border: 1px dashed gray;margin: 0 0.4em 0.5em 0.4em;box-sizing: border-box;padding-bottom: 0.4em;background-color: white;}#sk-container-id-3 div.sk-label label {font-family: monospace;font-weight: bold;display: inline-block;line-height: 1.2em;}#sk-container-id-3 div.sk-label-container {text-align: center;}#sk-container-id-3 div.sk-container {/* jupyter's `normalize.less` sets `[hidden] { display: none; }` but bootstrap.min.css set `[hidden] { display: none !important; }` so we also need the `!important` here to be able to override the default hidden behavior on the sphinx rendered scikit-learn.org. See: https://github.com/scikit-learn/scikit-learn/issues/21755 */display: inline-block !important;position: relative;}#sk-container-id-3 div.sk-text-repr-fallback {display: none;}</style><div id=\"sk-container-id-3\" class=\"sk-top-container\"><div class=\"sk-text-repr-fallback\"><pre>DecisionTreeClassifier(max_depth=10, random_state=123)</pre><b>In a Jupyter environment, please rerun this cell to show the HTML representation or trust the notebook. <br />On GitHub, the HTML representation is unable to render, please try loading this page with nbviewer.org.</b></div><div class=\"sk-container\" hidden><div class=\"sk-item\"><div class=\"sk-estimator sk-toggleable\"><input class=\"sk-toggleable__control sk-hidden--visually\" id=\"sk-estimator-id-3\" type=\"checkbox\" checked><label for=\"sk-estimator-id-3\" class=\"sk-toggleable__label sk-toggleable__label-arrow\">DecisionTreeClassifier</label><div class=\"sk-toggleable__content\"><pre>DecisionTreeClassifier(max_depth=10, random_state=123)</pre></div></div></div></div></div>"
      ],
      "text/plain": [
       "DecisionTreeClassifier(max_depth=10, random_state=123)"
      ]
     },
     "execution_count": 51,
     "metadata": {},
     "output_type": "execute_result"
    }
   ],
   "source": [
    "# Train your classification algorithm\n",
    "decision_tree_classifier.fit(X_full_train_tfidf, y)"
   ]
  },
  {
   "cell_type": "code",
   "execution_count": 52,
   "id": "4446bb83-2bc0-4ec5-9d01-f7146c1cb7b0",
   "metadata": {
    "id": "VAe0sURwO5KL",
    "tags": []
   },
   "outputs": [],
   "source": [
    "# predict using the trained model on the scaled test data\n",
    "y_full_pred_dt = decision_tree_classifier.predict(X_full_test_tfidf)"
   ]
  },
  {
   "cell_type": "code",
   "execution_count": 53,
   "id": "5aeec851-7c17-4db7-9734-c00705b62b88",
   "metadata": {
    "colab": {
     "base_uri": "https://localhost:8080/",
     "height": 424
    },
    "id": "PFcypE2UP29X",
    "outputId": "c8b9a01e-aa49-4da6-a6fa-7195385856b3",
    "tags": []
   },
   "outputs": [
    {
     "data": {
      "text/html": [
       "<div>\n",
       "<style scoped>\n",
       "    .dataframe tbody tr th:only-of-type {\n",
       "        vertical-align: middle;\n",
       "    }\n",
       "\n",
       "    .dataframe tbody tr th {\n",
       "        vertical-align: top;\n",
       "    }\n",
       "\n",
       "    .dataframe thead th {\n",
       "        text-align: right;\n",
       "    }\n",
       "</style>\n",
       "<table border=\"1\" class=\"dataframe\">\n",
       "  <thead>\n",
       "    <tr style=\"text-align: right;\">\n",
       "      <th></th>\n",
       "      <th>id</th>\n",
       "      <th>difficulty</th>\n",
       "    </tr>\n",
       "  </thead>\n",
       "  <tbody>\n",
       "    <tr>\n",
       "      <th>0</th>\n",
       "      <td>0</td>\n",
       "      <td>B1</td>\n",
       "    </tr>\n",
       "    <tr>\n",
       "      <th>1</th>\n",
       "      <td>1</td>\n",
       "      <td>A2</td>\n",
       "    </tr>\n",
       "    <tr>\n",
       "      <th>2</th>\n",
       "      <td>2</td>\n",
       "      <td>A2</td>\n",
       "    </tr>\n",
       "    <tr>\n",
       "      <th>3</th>\n",
       "      <td>3</td>\n",
       "      <td>A1</td>\n",
       "    </tr>\n",
       "    <tr>\n",
       "      <th>4</th>\n",
       "      <td>4</td>\n",
       "      <td>C1</td>\n",
       "    </tr>\n",
       "    <tr>\n",
       "      <th>...</th>\n",
       "      <td>...</td>\n",
       "      <td>...</td>\n",
       "    </tr>\n",
       "    <tr>\n",
       "      <th>1195</th>\n",
       "      <td>1195</td>\n",
       "      <td>B2</td>\n",
       "    </tr>\n",
       "    <tr>\n",
       "      <th>1196</th>\n",
       "      <td>1196</td>\n",
       "      <td>B1</td>\n",
       "    </tr>\n",
       "    <tr>\n",
       "      <th>1197</th>\n",
       "      <td>1197</td>\n",
       "      <td>B2</td>\n",
       "    </tr>\n",
       "    <tr>\n",
       "      <th>1198</th>\n",
       "      <td>1198</td>\n",
       "      <td>C1</td>\n",
       "    </tr>\n",
       "    <tr>\n",
       "      <th>1199</th>\n",
       "      <td>1199</td>\n",
       "      <td>B1</td>\n",
       "    </tr>\n",
       "  </tbody>\n",
       "</table>\n",
       "<p>1200 rows × 2 columns</p>\n",
       "</div>"
      ],
      "text/plain": [
       "        id difficulty\n",
       "0        0         B1\n",
       "1        1         A2\n",
       "2        2         A2\n",
       "3        3         A1\n",
       "4        4         C1\n",
       "...    ...        ...\n",
       "1195  1195         B2\n",
       "1196  1196         B1\n",
       "1197  1197         B2\n",
       "1198  1198         C1\n",
       "1199  1199         B1\n",
       "\n",
       "[1200 rows x 2 columns]"
      ]
     },
     "execution_count": 53,
     "metadata": {},
     "output_type": "execute_result"
    }
   ],
   "source": [
    "# display y_full_pred values for each X\n",
    "df_full_pred_dt = pd.DataFrame({'id': X_full_test.index, 'difficulty': y_full_pred_dt})\n",
    "df_full_pred_dt"
   ]
  },
  {
   "cell_type": "markdown",
   "id": "bce6585d-8db9-4bb0-b053-061300b95d3f",
   "metadata": {
    "id": "891rT0sNQCcm"
   },
   "source": [
    "### Export the df as csv for kagle submission"
   ]
  },
  {
   "cell_type": "code",
   "execution_count": 55,
   "id": "468583b8-9c40-49c1-a159-cc82190adeb6",
   "metadata": {
    "id": "zM7XO3nSQDz9",
    "tags": []
   },
   "outputs": [],
   "source": [
    "# export the dataframe as csv\n",
    "df_full_pred_dt.to_csv(\"df_dt_lemma.csv\", index=False)\n",
    "\n",
    "# accuracy score based on kagel submission: [df_dt.csv : 0.390 ; df_dt_lemma.csv : 0.271"
   ]
  },
  {
   "cell_type": "markdown",
   "id": "e2adb35e-d308-4119-8671-31034fae57c9",
   "metadata": {},
   "source": [
    "# KNN "
   ]
  },
  {
   "cell_type": "markdown",
   "id": "33005d1d-92f9-4b03-b3cd-f14e7ff63d02",
   "metadata": {},
   "source": [
    "kNN (k-Nearest Neighbors) classifies by majority vote of the nearest k points. No model training, only distance calculations. Example: Recommending similar products."
   ]
  },
  {
   "cell_type": "markdown",
   "id": "359f0996-f362-4bbc-8f4f-cfc23ba2ceca",
   "metadata": {
    "id": "V_cN8ZBDL6qH"
   },
   "source": [
    "### Train on 80% of training data, test on 20% of training data"
   ]
  },
  {
   "cell_type": "code",
   "execution_count": 59,
   "id": "b1434ec8-cd18-4cc3-8321-f932a5bca2af",
   "metadata": {
    "tags": []
   },
   "outputs": [
    {
     "data": {
      "text/html": [
       "<style>#sk-container-id-4 {color: black;background-color: white;}#sk-container-id-4 pre{padding: 0;}#sk-container-id-4 div.sk-toggleable {background-color: white;}#sk-container-id-4 label.sk-toggleable__label {cursor: pointer;display: block;width: 100%;margin-bottom: 0;padding: 0.3em;box-sizing: border-box;text-align: center;}#sk-container-id-4 label.sk-toggleable__label-arrow:before {content: \"▸\";float: left;margin-right: 0.25em;color: #696969;}#sk-container-id-4 label.sk-toggleable__label-arrow:hover:before {color: black;}#sk-container-id-4 div.sk-estimator:hover label.sk-toggleable__label-arrow:before {color: black;}#sk-container-id-4 div.sk-toggleable__content {max-height: 0;max-width: 0;overflow: hidden;text-align: left;background-color: #f0f8ff;}#sk-container-id-4 div.sk-toggleable__content pre {margin: 0.2em;color: black;border-radius: 0.25em;background-color: #f0f8ff;}#sk-container-id-4 input.sk-toggleable__control:checked~div.sk-toggleable__content {max-height: 200px;max-width: 100%;overflow: auto;}#sk-container-id-4 input.sk-toggleable__control:checked~label.sk-toggleable__label-arrow:before {content: \"▾\";}#sk-container-id-4 div.sk-estimator input.sk-toggleable__control:checked~label.sk-toggleable__label {background-color: #d4ebff;}#sk-container-id-4 div.sk-label input.sk-toggleable__control:checked~label.sk-toggleable__label {background-color: #d4ebff;}#sk-container-id-4 input.sk-hidden--visually {border: 0;clip: rect(1px 1px 1px 1px);clip: rect(1px, 1px, 1px, 1px);height: 1px;margin: -1px;overflow: hidden;padding: 0;position: absolute;width: 1px;}#sk-container-id-4 div.sk-estimator {font-family: monospace;background-color: #f0f8ff;border: 1px dotted black;border-radius: 0.25em;box-sizing: border-box;margin-bottom: 0.5em;}#sk-container-id-4 div.sk-estimator:hover {background-color: #d4ebff;}#sk-container-id-4 div.sk-parallel-item::after {content: \"\";width: 100%;border-bottom: 1px solid gray;flex-grow: 1;}#sk-container-id-4 div.sk-label:hover label.sk-toggleable__label {background-color: #d4ebff;}#sk-container-id-4 div.sk-serial::before {content: \"\";position: absolute;border-left: 1px solid gray;box-sizing: border-box;top: 0;bottom: 0;left: 50%;z-index: 0;}#sk-container-id-4 div.sk-serial {display: flex;flex-direction: column;align-items: center;background-color: white;padding-right: 0.2em;padding-left: 0.2em;position: relative;}#sk-container-id-4 div.sk-item {position: relative;z-index: 1;}#sk-container-id-4 div.sk-parallel {display: flex;align-items: stretch;justify-content: center;background-color: white;position: relative;}#sk-container-id-4 div.sk-item::before, #sk-container-id-4 div.sk-parallel-item::before {content: \"\";position: absolute;border-left: 1px solid gray;box-sizing: border-box;top: 0;bottom: 0;left: 50%;z-index: -1;}#sk-container-id-4 div.sk-parallel-item {display: flex;flex-direction: column;z-index: 1;position: relative;background-color: white;}#sk-container-id-4 div.sk-parallel-item:first-child::after {align-self: flex-end;width: 50%;}#sk-container-id-4 div.sk-parallel-item:last-child::after {align-self: flex-start;width: 50%;}#sk-container-id-4 div.sk-parallel-item:only-child::after {width: 0;}#sk-container-id-4 div.sk-dashed-wrapped {border: 1px dashed gray;margin: 0 0.4em 0.5em 0.4em;box-sizing: border-box;padding-bottom: 0.4em;background-color: white;}#sk-container-id-4 div.sk-label label {font-family: monospace;font-weight: bold;display: inline-block;line-height: 1.2em;}#sk-container-id-4 div.sk-label-container {text-align: center;}#sk-container-id-4 div.sk-container {/* jupyter's `normalize.less` sets `[hidden] { display: none; }` but bootstrap.min.css set `[hidden] { display: none !important; }` so we also need the `!important` here to be able to override the default hidden behavior on the sphinx rendered scikit-learn.org. See: https://github.com/scikit-learn/scikit-learn/issues/21755 */display: inline-block !important;position: relative;}#sk-container-id-4 div.sk-text-repr-fallback {display: none;}</style><div id=\"sk-container-id-4\" class=\"sk-top-container\"><div class=\"sk-text-repr-fallback\"><pre>KNeighborsClassifier()</pre><b>In a Jupyter environment, please rerun this cell to show the HTML representation or trust the notebook. <br />On GitHub, the HTML representation is unable to render, please try loading this page with nbviewer.org.</b></div><div class=\"sk-container\" hidden><div class=\"sk-item\"><div class=\"sk-estimator sk-toggleable\"><input class=\"sk-toggleable__control sk-hidden--visually\" id=\"sk-estimator-id-4\" type=\"checkbox\" checked><label for=\"sk-estimator-id-4\" class=\"sk-toggleable__label sk-toggleable__label-arrow\">KNeighborsClassifier</label><div class=\"sk-toggleable__content\"><pre>KNeighborsClassifier()</pre></div></div></div></div></div>"
      ],
      "text/plain": [
       "KNeighborsClassifier()"
      ]
     },
     "execution_count": 59,
     "metadata": {},
     "output_type": "execute_result"
    }
   ],
   "source": [
    "#Define X and y\n",
    "X = training['processed_sentence']\n",
    "y = training['difficulty']\n",
    "#Define random seed\n",
    "random_seed = 123\n",
    "\n",
    "#Split training and test set \n",
    "X_train, X_test, y_train, y_test = train_test_split(X, y, test_size=0.2, random_state=random_seed)\n",
    "\n",
    "# vectorization\n",
    "#french_stop_words = stopwords.words('french')\n",
    "#tfidf = TfidfVectorizer(ngram_range=(1, 1), stop_words=french_stop_words)\n",
    "tfidf = TfidfVectorizer(ngram_range=(1, 1))\n",
    "X_train_tfidf = tfidf.fit_transform(X_train)\n",
    "X_test_tfidf = tfidf.transform(X_test)\n",
    "\n",
    "# Initialize the kNN classifier\n",
    "knn_classifier = KNeighborsClassifier()\n",
    "# Train the kNN classifier on the training data\n",
    "knn_classifier.fit(X_train_tfidf, y_train)"
   ]
  },
  {
   "cell_type": "code",
   "execution_count": 60,
   "id": "78eb92d4-c98c-4364-b35a-3f3343752d14",
   "metadata": {
    "tags": []
   },
   "outputs": [],
   "source": [
    "# Make predictions on the test data\n",
    "y_pred_knn = knn_classifier.predict(X_test_tfidf)"
   ]
  },
  {
   "cell_type": "markdown",
   "id": "3eca7b32-b668-4480-ae6c-2823fb31bfad",
   "metadata": {
    "id": "V_cN8ZBDL6qH"
   },
   "source": [
    "### Evaluate the Model"
   ]
  },
  {
   "cell_type": "markdown",
   "id": "5bbfb937-c5d0-4081-806f-2c7c37e0f157",
   "metadata": {},
   "source": [
    "**General description** \n",
    "Precision: Ratio of correctly predicted positive observations to total predicted positives.\\\n",
    "Recall Rate: Ratio of correctly predicted positives to actual positives. \\\n",
    "F1 Score: Harmonic mean of precision and recall. \\\n",
    "Accuracy: Ratio of correctly predicted observations to total observations."
   ]
  },
  {
   "cell_type": "code",
   "execution_count": 63,
   "id": "fdfbe1bc-762d-40ee-a5ac-4160cb9c4a1c",
   "metadata": {
    "tags": []
   },
   "outputs": [
    {
     "name": "stdout",
     "output_type": "stream",
     "text": [
      "precision:0.31\n",
      "recall rate: 0.21\n",
      "F1 score: 0.16\n",
      "accuracy: 0.21\n"
     ]
    }
   ],
   "source": [
    "#Calculate Precision\n",
    "precision_knn = precision_score(y_test, y_pred_knn, average='macro')\n",
    "#Calculate recall score\n",
    "recall_knn = recall_score(y_test, y_pred_knn, average='macro')\n",
    "# Calculate F1 score\n",
    "f1_knn = f1_score(y_test, y_pred_knn, average='macro')\n",
    "# Calculate accuracy score\n",
    "accuracy_knn = accuracy_score(y_test, y_pred_knn)\n",
    "print(f\"precision:{precision_knn:.2f}\")\n",
    "print(f\"recall rate: {recall_knn:.2f}\")\n",
    "print(f\"F1 score: {f1_knn:.2f}\")\n",
    "print(f\"accuracy: {accuracy_knn:.2f}\")"
   ]
  },
  {
   "cell_type": "code",
   "execution_count": 64,
   "id": "2fd36729-4ad1-4883-9f49-2017363b27fd",
   "metadata": {
    "colab": {
     "base_uri": "https://localhost:8080/"
    },
    "id": "uStrh6vmNFEe",
    "outputId": "ef80a340-d9c1-4428-910d-e72cdd5ad5c6",
    "tags": []
   },
   "outputs": [
    {
     "name": "stdout",
     "output_type": "stream",
     "text": [
      "              precision    recall  f1-score   support\n",
      "\n",
      "          A1       0.18      0.84      0.30       153\n",
      "          A2       0.24      0.15      0.19       156\n",
      "          B1       0.17      0.07      0.09       153\n",
      "          B2       0.44      0.10      0.16       173\n",
      "          C1       0.37      0.07      0.11       166\n",
      "          C2       0.50      0.06      0.10       159\n",
      "\n",
      "    accuracy                           0.21       960\n",
      "   macro avg       0.31      0.21      0.16       960\n",
      "weighted avg       0.32      0.21      0.16       960\n",
      "\n"
     ]
    }
   ],
   "source": [
    "# display the classification report\n",
    "print(classification_report(y_test,y_pred_knn))"
   ]
  },
  {
   "cell_type": "code",
   "execution_count": 65,
   "id": "8020edc9-57c0-4d75-927a-19caf0297b7b",
   "metadata": {
    "tags": []
   },
   "outputs": [
    {
     "data": {
      "text/plain": [
       "<Figure size 800x600 with 0 Axes>"
      ]
     },
     "metadata": {},
     "output_type": "display_data"
    },
    {
     "data": {
      "image/png": "[encoded data removed]",
      "text/plain": [
       "<Figure size 640x480 with 2 Axes>"
      ]
     },
     "metadata": {},
     "output_type": "display_data"
    }
   ],
   "source": [
    "from sklearn.metrics import ConfusionMatrixDisplay\n",
    "\n",
    "# Calculate the confusion matrix\n",
    "confusion = confusion_matrix(y_test, y_pred_knn)\n",
    "\n",
    "# Plot confusion matrix\n",
    "plt.figure(figsize=(8, 6))\n",
    "disp = ConfusionMatrixDisplay(confusion_matrix=confusion, display_labels=np.unique(y_test))\n",
    "disp.plot(cmap='Blues', values_format='g')\n",
    "plt.xlabel('Predicted')\n",
    "plt.ylabel('True labels')\n",
    "plt.title('Confusion Matrix Heatmap')\n",
    "plt.show()\n"
   ]
  },
  {
   "cell_type": "markdown",
   "id": "b9af2924-0ce5-4f04-9bad-27847f1b7675",
   "metadata": {
    "id": "TEZ-pwJ1OLX2"
   },
   "source": [
    "### Train on the full training data, test on the unlabelled test data"
   ]
  },
  {
   "cell_type": "code",
   "execution_count": 67,
   "id": "0c258c64-48ec-495a-aff6-617e3e3f3adc",
   "metadata": {
    "id": "4F1MKM2kOJ1w",
    "tags": []
   },
   "outputs": [],
   "source": [
    "# split your data into features (X) and target variable (y)\n",
    "X = training['processed_sentence']\n",
    "y = training['difficulty']\n",
    "\n",
    "# define test data\n",
    "X_full_test = test['processed_sentence']\n",
    "\n",
    "# vectorization\n",
    "tfidf = TfidfVectorizer(ngram_range=(1, 1))\n",
    "X_full_train_tfidf = tfidf.fit_transform(X)\n",
    "X_full_test_tfidf = tfidf.transform(X_full_test)"
   ]
  },
  {
   "cell_type": "code",
   "execution_count": 68,
   "id": "6aad6580-0b0f-43a8-8980-e061395ce5ac",
   "metadata": {
    "colab": {
     "base_uri": "https://localhost:8080/",
     "height": 75
    },
    "id": "obKJHLBtOcd9",
    "outputId": "ffd9c480-897f-42ce-ce29-f2beaaebf72a",
    "tags": []
   },
   "outputs": [
    {
     "data": {
      "text/html": [
       "<style>#sk-container-id-5 {color: black;background-color: white;}#sk-container-id-5 pre{padding: 0;}#sk-container-id-5 div.sk-toggleable {background-color: white;}#sk-container-id-5 label.sk-toggleable__label {cursor: pointer;display: block;width: 100%;margin-bottom: 0;padding: 0.3em;box-sizing: border-box;text-align: center;}#sk-container-id-5 label.sk-toggleable__label-arrow:before {content: \"▸\";float: left;margin-right: 0.25em;color: #696969;}#sk-container-id-5 label.sk-toggleable__label-arrow:hover:before {color: black;}#sk-container-id-5 div.sk-estimator:hover label.sk-toggleable__label-arrow:before {color: black;}#sk-container-id-5 div.sk-toggleable__content {max-height: 0;max-width: 0;overflow: hidden;text-align: left;background-color: #f0f8ff;}#sk-container-id-5 div.sk-toggleable__content pre {margin: 0.2em;color: black;border-radius: 0.25em;background-color: #f0f8ff;}#sk-container-id-5 input.sk-toggleable__control:checked~div.sk-toggleable__content {max-height: 200px;max-width: 100%;overflow: auto;}#sk-container-id-5 input.sk-toggleable__control:checked~label.sk-toggleable__label-arrow:before {content: \"▾\";}#sk-container-id-5 div.sk-estimator input.sk-toggleable__control:checked~label.sk-toggleable__label {background-color: #d4ebff;}#sk-container-id-5 div.sk-label input.sk-toggleable__control:checked~label.sk-toggleable__label {background-color: #d4ebff;}#sk-container-id-5 input.sk-hidden--visually {border: 0;clip: rect(1px 1px 1px 1px);clip: rect(1px, 1px, 1px, 1px);height: 1px;margin: -1px;overflow: hidden;padding: 0;position: absolute;width: 1px;}#sk-container-id-5 div.sk-estimator {font-family: monospace;background-color: #f0f8ff;border: 1px dotted black;border-radius: 0.25em;box-sizing: border-box;margin-bottom: 0.5em;}#sk-container-id-5 div.sk-estimator:hover {background-color: #d4ebff;}#sk-container-id-5 div.sk-parallel-item::after {content: \"\";width: 100%;border-bottom: 1px solid gray;flex-grow: 1;}#sk-container-id-5 div.sk-label:hover label.sk-toggleable__label {background-color: #d4ebff;}#sk-container-id-5 div.sk-serial::before {content: \"\";position: absolute;border-left: 1px solid gray;box-sizing: border-box;top: 0;bottom: 0;left: 50%;z-index: 0;}#sk-container-id-5 div.sk-serial {display: flex;flex-direction: column;align-items: center;background-color: white;padding-right: 0.2em;padding-left: 0.2em;position: relative;}#sk-container-id-5 div.sk-item {position: relative;z-index: 1;}#sk-container-id-5 div.sk-parallel {display: flex;align-items: stretch;justify-content: center;background-color: white;position: relative;}#sk-container-id-5 div.sk-item::before, #sk-container-id-5 div.sk-parallel-item::before {content: \"\";position: absolute;border-left: 1px solid gray;box-sizing: border-box;top: 0;bottom: 0;left: 50%;z-index: -1;}#sk-container-id-5 div.sk-parallel-item {display: flex;flex-direction: column;z-index: 1;position: relative;background-color: white;}#sk-container-id-5 div.sk-parallel-item:first-child::after {align-self: flex-end;width: 50%;}#sk-container-id-5 div.sk-parallel-item:last-child::after {align-self: flex-start;width: 50%;}#sk-container-id-5 div.sk-parallel-item:only-child::after {width: 0;}#sk-container-id-5 div.sk-dashed-wrapped {border: 1px dashed gray;margin: 0 0.4em 0.5em 0.4em;box-sizing: border-box;padding-bottom: 0.4em;background-color: white;}#sk-container-id-5 div.sk-label label {font-family: monospace;font-weight: bold;display: inline-block;line-height: 1.2em;}#sk-container-id-5 div.sk-label-container {text-align: center;}#sk-container-id-5 div.sk-container {/* jupyter's `normalize.less` sets `[hidden] { display: none; }` but bootstrap.min.css set `[hidden] { display: none !important; }` so we also need the `!important` here to be able to override the default hidden behavior on the sphinx rendered scikit-learn.org. See: https://github.com/scikit-learn/scikit-learn/issues/21755 */display: inline-block !important;position: relative;}#sk-container-id-5 div.sk-text-repr-fallback {display: none;}</style><div id=\"sk-container-id-5\" class=\"sk-top-container\"><div class=\"sk-text-repr-fallback\"><pre>KNeighborsClassifier()</pre><b>In a Jupyter environment, please rerun this cell to show the HTML representation or trust the notebook. <br />On GitHub, the HTML representation is unable to render, please try loading this page with nbviewer.org.</b></div><div class=\"sk-container\" hidden><div class=\"sk-item\"><div class=\"sk-estimator sk-toggleable\"><input class=\"sk-toggleable__control sk-hidden--visually\" id=\"sk-estimator-id-5\" type=\"checkbox\" checked><label for=\"sk-estimator-id-5\" class=\"sk-toggleable__label sk-toggleable__label-arrow\">KNeighborsClassifier</label><div class=\"sk-toggleable__content\"><pre>KNeighborsClassifier()</pre></div></div></div></div></div>"
      ],
      "text/plain": [
       "KNeighborsClassifier()"
      ]
     },
     "execution_count": 68,
     "metadata": {},
     "output_type": "execute_result"
    }
   ],
   "source": [
    "# Train your classification algorithm\n",
    "knn_classifier.fit(X_full_train_tfidf, y)"
   ]
  },
  {
   "cell_type": "code",
   "execution_count": 69,
   "id": "15b567d9-a8d8-4bfd-ad3d-f348142525bf",
   "metadata": {
    "id": "VAe0sURwO5KL",
    "tags": []
   },
   "outputs": [],
   "source": [
    "# predict using the trained model on the scaled test data\n",
    "y_full_pred_knn = knn_classifier.predict(X_full_test_tfidf)"
   ]
  },
  {
   "cell_type": "code",
   "execution_count": 70,
   "id": "f897d00d-1e0e-4259-8a65-f889ceba74b0",
   "metadata": {
    "colab": {
     "base_uri": "https://localhost:8080/",
     "height": 424
    },
    "id": "PFcypE2UP29X",
    "outputId": "c8b9a01e-aa49-4da6-a6fa-7195385856b3",
    "tags": []
   },
   "outputs": [
    {
     "data": {
      "text/html": [
       "<div>\n",
       "<style scoped>\n",
       "    .dataframe tbody tr th:only-of-type {\n",
       "        vertical-align: middle;\n",
       "    }\n",
       "\n",
       "    .dataframe tbody tr th {\n",
       "        vertical-align: top;\n",
       "    }\n",
       "\n",
       "    .dataframe thead th {\n",
       "        text-align: right;\n",
       "    }\n",
       "</style>\n",
       "<table border=\"1\" class=\"dataframe\">\n",
       "  <thead>\n",
       "    <tr style=\"text-align: right;\">\n",
       "      <th></th>\n",
       "      <th>id</th>\n",
       "      <th>difficulty</th>\n",
       "    </tr>\n",
       "  </thead>\n",
       "  <tbody>\n",
       "    <tr>\n",
       "      <th>0</th>\n",
       "      <td>0</td>\n",
       "      <td>C1</td>\n",
       "    </tr>\n",
       "    <tr>\n",
       "      <th>1</th>\n",
       "      <td>1</td>\n",
       "      <td>A1</td>\n",
       "    </tr>\n",
       "    <tr>\n",
       "      <th>2</th>\n",
       "      <td>2</td>\n",
       "      <td>A1</td>\n",
       "    </tr>\n",
       "    <tr>\n",
       "      <th>3</th>\n",
       "      <td>3</td>\n",
       "      <td>A1</td>\n",
       "    </tr>\n",
       "    <tr>\n",
       "      <th>4</th>\n",
       "      <td>4</td>\n",
       "      <td>A1</td>\n",
       "    </tr>\n",
       "    <tr>\n",
       "      <th>...</th>\n",
       "      <td>...</td>\n",
       "      <td>...</td>\n",
       "    </tr>\n",
       "    <tr>\n",
       "      <th>1195</th>\n",
       "      <td>1195</td>\n",
       "      <td>A1</td>\n",
       "    </tr>\n",
       "    <tr>\n",
       "      <th>1196</th>\n",
       "      <td>1196</td>\n",
       "      <td>A2</td>\n",
       "    </tr>\n",
       "    <tr>\n",
       "      <th>1197</th>\n",
       "      <td>1197</td>\n",
       "      <td>A1</td>\n",
       "    </tr>\n",
       "    <tr>\n",
       "      <th>1198</th>\n",
       "      <td>1198</td>\n",
       "      <td>C1</td>\n",
       "    </tr>\n",
       "    <tr>\n",
       "      <th>1199</th>\n",
       "      <td>1199</td>\n",
       "      <td>A1</td>\n",
       "    </tr>\n",
       "  </tbody>\n",
       "</table>\n",
       "<p>1200 rows × 2 columns</p>\n",
       "</div>"
      ],
      "text/plain": [
       "        id difficulty\n",
       "0        0         C1\n",
       "1        1         A1\n",
       "2        2         A1\n",
       "3        3         A1\n",
       "4        4         A1\n",
       "...    ...        ...\n",
       "1195  1195         A1\n",
       "1196  1196         A2\n",
       "1197  1197         A1\n",
       "1198  1198         C1\n",
       "1199  1199         A1\n",
       "\n",
       "[1200 rows x 2 columns]"
      ]
     },
     "execution_count": 70,
     "metadata": {},
     "output_type": "execute_result"
    }
   ],
   "source": [
    "# display y_full_pred values for each X\n",
    "df_full_pred_knn = pd.DataFrame({'id': X_full_test.index, 'difficulty': y_full_pred_knn})\n",
    "df_full_pred_knn"
   ]
  },
  {
   "cell_type": "markdown",
   "id": "653bccca-11ab-4797-a0a2-3d3cd42b083d",
   "metadata": {
    "id": "891rT0sNQCcm"
   },
   "source": [
    "### Export the df as csv for kagle submission"
   ]
  },
  {
   "cell_type": "code",
   "execution_count": 72,
   "id": "cbc8a1dc-fa00-48c9-9174-58896cc8db54",
   "metadata": {
    "id": "zM7XO3nSQDz9",
    "tags": []
   },
   "outputs": [],
   "source": [
    "# export the dataframe as csv\n",
    "df_full_pred_knn.to_csv(\"df_knn_lemma.csv\", index=False)\n",
    "\n",
    "# accuracy score based on kagel submission: [df_knn.csv : 0.175 ; df_knn_lemma.csv : 0.233"
   ]
  },
  {
   "cell_type": "markdown",
   "id": "b26f9be1-2650-435d-a2a6-70c31f128a62",
   "metadata": {},
   "source": [
    "# Random Forest"
   ]
  },
  {
   "cell_type": "markdown",
   "id": "1256c93e-4b3f-487b-8554-22f33e45166b",
   "metadata": {},
   "source": [
    "Random Forest is an ensemble of decision trees, averaging predictions to improve accuracy and control overfitting. Each tree uses a subset of data. Example: Detecting fraudulent financial transactions."
   ]
  },
  {
   "cell_type": "markdown",
   "id": "ecab4985-235d-4e37-9848-368309d2a216",
   "metadata": {
    "id": "V_cN8ZBDL6qH"
   },
   "source": [
    "### Train on 80% of training data, test on 20% of training data"
   ]
  },
  {
   "cell_type": "code",
   "execution_count": 76,
   "id": "20f3ea66-2fb0-4f08-be0b-2a3475b48a9f",
   "metadata": {
    "tags": []
   },
   "outputs": [
    {
     "data": {
      "text/html": [
       "<style>#sk-container-id-6 {color: black;background-color: white;}#sk-container-id-6 pre{padding: 0;}#sk-container-id-6 div.sk-toggleable {background-color: white;}#sk-container-id-6 label.sk-toggleable__label {cursor: pointer;display: block;width: 100%;margin-bottom: 0;padding: 0.3em;box-sizing: border-box;text-align: center;}#sk-container-id-6 label.sk-toggleable__label-arrow:before {content: \"▸\";float: left;margin-right: 0.25em;color: #696969;}#sk-container-id-6 label.sk-toggleable__label-arrow:hover:before {color: black;}#sk-container-id-6 div.sk-estimator:hover label.sk-toggleable__label-arrow:before {color: black;}#sk-container-id-6 div.sk-toggleable__content {max-height: 0;max-width: 0;overflow: hidden;text-align: left;background-color: #f0f8ff;}#sk-container-id-6 div.sk-toggleable__content pre {margin: 0.2em;color: black;border-radius: 0.25em;background-color: #f0f8ff;}#sk-container-id-6 input.sk-toggleable__control:checked~div.sk-toggleable__content {max-height: 200px;max-width: 100%;overflow: auto;}#sk-container-id-6 input.sk-toggleable__control:checked~label.sk-toggleable__label-arrow:before {content: \"▾\";}#sk-container-id-6 div.sk-estimator input.sk-toggleable__control:checked~label.sk-toggleable__label {background-color: #d4ebff;}#sk-container-id-6 div.sk-label input.sk-toggleable__control:checked~label.sk-toggleable__label {background-color: #d4ebff;}#sk-container-id-6 input.sk-hidden--visually {border: 0;clip: rect(1px 1px 1px 1px);clip: rect(1px, 1px, 1px, 1px);height: 1px;margin: -1px;overflow: hidden;padding: 0;position: absolute;width: 1px;}#sk-container-id-6 div.sk-estimator {font-family: monospace;background-color: #f0f8ff;border: 1px dotted black;border-radius: 0.25em;box-sizing: border-box;margin-bottom: 0.5em;}#sk-container-id-6 div.sk-estimator:hover {background-color: #d4ebff;}#sk-container-id-6 div.sk-parallel-item::after {content: \"\";width: 100%;border-bottom: 1px solid gray;flex-grow: 1;}#sk-container-id-6 div.sk-label:hover label.sk-toggleable__label {background-color: #d4ebff;}#sk-container-id-6 div.sk-serial::before {content: \"\";position: absolute;border-left: 1px solid gray;box-sizing: border-box;top: 0;bottom: 0;left: 50%;z-index: 0;}#sk-container-id-6 div.sk-serial {display: flex;flex-direction: column;align-items: center;background-color: white;padding-right: 0.2em;padding-left: 0.2em;position: relative;}#sk-container-id-6 div.sk-item {position: relative;z-index: 1;}#sk-container-id-6 div.sk-parallel {display: flex;align-items: stretch;justify-content: center;background-color: white;position: relative;}#sk-container-id-6 div.sk-item::before, #sk-container-id-6 div.sk-parallel-item::before {content: \"\";position: absolute;border-left: 1px solid gray;box-sizing: border-box;top: 0;bottom: 0;left: 50%;z-index: -1;}#sk-container-id-6 div.sk-parallel-item {display: flex;flex-direction: column;z-index: 1;position: relative;background-color: white;}#sk-container-id-6 div.sk-parallel-item:first-child::after {align-self: flex-end;width: 50%;}#sk-container-id-6 div.sk-parallel-item:last-child::after {align-self: flex-start;width: 50%;}#sk-container-id-6 div.sk-parallel-item:only-child::after {width: 0;}#sk-container-id-6 div.sk-dashed-wrapped {border: 1px dashed gray;margin: 0 0.4em 0.5em 0.4em;box-sizing: border-box;padding-bottom: 0.4em;background-color: white;}#sk-container-id-6 div.sk-label label {font-family: monospace;font-weight: bold;display: inline-block;line-height: 1.2em;}#sk-container-id-6 div.sk-label-container {text-align: center;}#sk-container-id-6 div.sk-container {/* jupyter's `normalize.less` sets `[hidden] { display: none; }` but bootstrap.min.css set `[hidden] { display: none !important; }` so we also need the `!important` here to be able to override the default hidden behavior on the sphinx rendered scikit-learn.org. See: https://github.com/scikit-learn/scikit-learn/issues/21755 */display: inline-block !important;position: relative;}#sk-container-id-6 div.sk-text-repr-fallback {display: none;}</style><div id=\"sk-container-id-6\" class=\"sk-top-container\"><div class=\"sk-text-repr-fallback\"><pre>RandomForestClassifier(random_state=123)</pre><b>In a Jupyter environment, please rerun this cell to show the HTML representation or trust the notebook. <br />On GitHub, the HTML representation is unable to render, please try loading this page with nbviewer.org.</b></div><div class=\"sk-container\" hidden><div class=\"sk-item\"><div class=\"sk-estimator sk-toggleable\"><input class=\"sk-toggleable__control sk-hidden--visually\" id=\"sk-estimator-id-6\" type=\"checkbox\" checked><label for=\"sk-estimator-id-6\" class=\"sk-toggleable__label sk-toggleable__label-arrow\">RandomForestClassifier</label><div class=\"sk-toggleable__content\"><pre>RandomForestClassifier(random_state=123)</pre></div></div></div></div></div>"
      ],
      "text/plain": [
       "RandomForestClassifier(random_state=123)"
      ]
     },
     "execution_count": 76,
     "metadata": {},
     "output_type": "execute_result"
    }
   ],
   "source": [
    "#Define X and y\n",
    "X = training['processed_sentence']\n",
    "y = training['difficulty']\n",
    "#Define random seed\n",
    "random_seed = 123\n",
    "\n",
    "#Split training and test set \n",
    "X_train, X_test, y_train, y_test = train_test_split(X, y, test_size=0.2, random_state=random_seed)\n",
    "\n",
    "# Vectorization\n",
    "#french_stop_words = stopwords.words('french')\n",
    "#tfidf = TfidfVectorizer(ngram_range=(1, 1), stop_words=french_stop_words)\n",
    "tfidf = TfidfVectorizer(ngram_range=(1, 1))\n",
    "X_train_tfidf = tfidf.fit_transform(X_train)\n",
    "X_test_tfidf = tfidf.transform(X_test)\n",
    "\n",
    "#Train the classifier\n",
    "classifier_rf = RandomForestClassifier(random_state=123)\n",
    "#Fit to the train data\n",
    "classifier_rf.fit(X_train_tfidf, y_train)"
   ]
  },
  {
   "cell_type": "code",
   "execution_count": 77,
   "id": "29c77af1-5763-402a-b609-851212fcdfaf",
   "metadata": {
    "tags": []
   },
   "outputs": [],
   "source": [
    "#Predict with Random Forest\n",
    "y_pred_rf = classifier_rf.predict(X_test_tfidf)"
   ]
  },
  {
   "cell_type": "markdown",
   "id": "6f6b44b1-d0b3-4766-aab9-7252a33e9255",
   "metadata": {},
   "source": [
    "### Evaluate the Model"
   ]
  },
  {
   "cell_type": "markdown",
   "id": "dd7ca8bd-282f-44a2-85b1-6988b5203614",
   "metadata": {},
   "source": [
    "**General description** \n",
    "Precision: Ratio of correctly predicted positive observations to total predicted positives.\\\n",
    "Recall Rate: Ratio of correctly predicted positives to actual positives. \\\n",
    "F1 Score: Harmonic mean of precision and recall. \\\n",
    "Accuracy: Ratio of correctly predicted observations to total observations."
   ]
  },
  {
   "cell_type": "code",
   "execution_count": 80,
   "id": "c0efb3da-060a-458c-93d3-3978eb9764ac",
   "metadata": {
    "tags": []
   },
   "outputs": [
    {
     "name": "stdout",
     "output_type": "stream",
     "text": [
      "precision:0.39\n",
      "recall rate: 0.38\n",
      "F1 score: 0.36\n",
      "accuracy: 0.37\n"
     ]
    }
   ],
   "source": [
    "#Calculate Precision\n",
    "precision_rf = precision_score(y_test, y_pred_rf, average='macro')\n",
    "#Calculate recall score\n",
    "recall_rf = recall_score(y_test, y_pred_rf, average='macro')\n",
    "# Calculate F1 score\n",
    "f1_rf = f1_score(y_test, y_pred_rf, average='macro')\n",
    "# Calculate accuracy score\n",
    "accuracy_rf = accuracy_score(y_test, y_pred_rf)\n",
    "print(f\"precision:{precision_rf:.2f}\")\n",
    "print(f\"recall rate: {recall_rf:.2f}\")\n",
    "print(f\"F1 score: {f1_rf:.2f}\")\n",
    "print(f\"accuracy: {accuracy_rf:.2f}\")"
   ]
  },
  {
   "cell_type": "code",
   "execution_count": 81,
   "id": "371f5c3b-5626-43e3-977a-a7cbff7e2f14",
   "metadata": {
    "colab": {
     "base_uri": "https://localhost:8080/"
    },
    "id": "uStrh6vmNFEe",
    "outputId": "ef80a340-d9c1-4428-910d-e72cdd5ad5c6",
    "tags": []
   },
   "outputs": [
    {
     "name": "stdout",
     "output_type": "stream",
     "text": [
      "              precision    recall  f1-score   support\n",
      "\n",
      "          A1       0.33      0.78      0.47       153\n",
      "          A2       0.35      0.28      0.31       156\n",
      "          B1       0.39      0.32      0.35       153\n",
      "          B2       0.31      0.26      0.28       173\n",
      "          C1       0.46      0.25      0.32       166\n",
      "          C2       0.52      0.38      0.44       159\n",
      "\n",
      "    accuracy                           0.37       960\n",
      "   macro avg       0.39      0.38      0.36       960\n",
      "weighted avg       0.39      0.37      0.36       960\n",
      "\n"
     ]
    }
   ],
   "source": [
    "# Display the classification report\n",
    "print(classification_report(y_test,y_pred_rf))"
   ]
  },
  {
   "cell_type": "code",
   "execution_count": 82,
   "id": "3e26dabe-1521-490f-8d4a-c8a036f27ffe",
   "metadata": {
    "tags": []
   },
   "outputs": [
    {
     "data": {
      "text/plain": [
       "<Figure size 800x600 with 0 Axes>"
      ]
     },
     "metadata": {},
     "output_type": "display_data"
    },
    {
     "data": {
      "image/png": "[encoded data removed]",
      "text/plain": [
       "<Figure size 640x480 with 2 Axes>"
      ]
     },
     "metadata": {},
     "output_type": "display_data"
    }
   ],
   "source": [
    "# Calculate the confusion matrix\n",
    "confusion = confusion_matrix(y_test, y_pred_rf)\n",
    "\n",
    "# Plot confusion matrix\n",
    "plt.figure(figsize=(8, 6))\n",
    "disp = ConfusionMatrixDisplay(confusion_matrix=confusion, display_labels=np.unique(y_test))\n",
    "disp.plot(cmap='Blues', values_format='g')\n",
    "plt.xlabel('Predicted')\n",
    "plt.ylabel('True labels')\n",
    "plt.title('Confusion Matrix Heatmap')\n",
    "plt.show()\n"
   ]
  },
  {
   "cell_type": "markdown",
   "id": "8de6086b-0e11-445d-9852-98bff349e7e3",
   "metadata": {
    "id": "TEZ-pwJ1OLX2"
   },
   "source": [
    "### Train on the full training data, test on the unlabelled test data"
   ]
  },
  {
   "cell_type": "code",
   "execution_count": 84,
   "id": "b711c6c5-3f51-48b0-b25b-66cd2d0c2c45",
   "metadata": {
    "id": "4F1MKM2kOJ1w",
    "tags": []
   },
   "outputs": [],
   "source": [
    "# split your data into features (X) and target variable (y)\n",
    "X = training['processed_sentence']\n",
    "y = training['difficulty']\n",
    "\n",
    "# define test data\n",
    "X_full_test = test['processed_sentence']\n",
    "\n",
    "# vectorization\n",
    "tfidf = TfidfVectorizer(ngram_range=(1, 1))\n",
    "X_full_train_tfidf = tfidf.fit_transform(X)\n",
    "X_full_test_tfidf = tfidf.transform(X_full_test)"
   ]
  },
  {
   "cell_type": "code",
   "execution_count": 85,
   "id": "089d25b7-bcce-4004-bf0a-28ded6decd0a",
   "metadata": {
    "colab": {
     "base_uri": "https://localhost:8080/",
     "height": 75
    },
    "id": "obKJHLBtOcd9",
    "outputId": "ffd9c480-897f-42ce-ce29-f2beaaebf72a",
    "tags": []
   },
   "outputs": [
    {
     "data": {
      "text/html": [
       "<style>#sk-container-id-7 {color: black;background-color: white;}#sk-container-id-7 pre{padding: 0;}#sk-container-id-7 div.sk-toggleable {background-color: white;}#sk-container-id-7 label.sk-toggleable__label {cursor: pointer;display: block;width: 100%;margin-bottom: 0;padding: 0.3em;box-sizing: border-box;text-align: center;}#sk-container-id-7 label.sk-toggleable__label-arrow:before {content: \"▸\";float: left;margin-right: 0.25em;color: #696969;}#sk-container-id-7 label.sk-toggleable__label-arrow:hover:before {color: black;}#sk-container-id-7 div.sk-estimator:hover label.sk-toggleable__label-arrow:before {color: black;}#sk-container-id-7 div.sk-toggleable__content {max-height: 0;max-width: 0;overflow: hidden;text-align: left;background-color: #f0f8ff;}#sk-container-id-7 div.sk-toggleable__content pre {margin: 0.2em;color: black;border-radius: 0.25em;background-color: #f0f8ff;}#sk-container-id-7 input.sk-toggleable__control:checked~div.sk-toggleable__content {max-height: 200px;max-width: 100%;overflow: auto;}#sk-container-id-7 input.sk-toggleable__control:checked~label.sk-toggleable__label-arrow:before {content: \"▾\";}#sk-container-id-7 div.sk-estimator input.sk-toggleable__control:checked~label.sk-toggleable__label {background-color: #d4ebff;}#sk-container-id-7 div.sk-label input.sk-toggleable__control:checked~label.sk-toggleable__label {background-color: #d4ebff;}#sk-container-id-7 input.sk-hidden--visually {border: 0;clip: rect(1px 1px 1px 1px);clip: rect(1px, 1px, 1px, 1px);height: 1px;margin: -1px;overflow: hidden;padding: 0;position: absolute;width: 1px;}#sk-container-id-7 div.sk-estimator {font-family: monospace;background-color: #f0f8ff;border: 1px dotted black;border-radius: 0.25em;box-sizing: border-box;margin-bottom: 0.5em;}#sk-container-id-7 div.sk-estimator:hover {background-color: #d4ebff;}#sk-container-id-7 div.sk-parallel-item::after {content: \"\";width: 100%;border-bottom: 1px solid gray;flex-grow: 1;}#sk-container-id-7 div.sk-label:hover label.sk-toggleable__label {background-color: #d4ebff;}#sk-container-id-7 div.sk-serial::before {content: \"\";position: absolute;border-left: 1px solid gray;box-sizing: border-box;top: 0;bottom: 0;left: 50%;z-index: 0;}#sk-container-id-7 div.sk-serial {display: flex;flex-direction: column;align-items: center;background-color: white;padding-right: 0.2em;padding-left: 0.2em;position: relative;}#sk-container-id-7 div.sk-item {position: relative;z-index: 1;}#sk-container-id-7 div.sk-parallel {display: flex;align-items: stretch;justify-content: center;background-color: white;position: relative;}#sk-container-id-7 div.sk-item::before, #sk-container-id-7 div.sk-parallel-item::before {content: \"\";position: absolute;border-left: 1px solid gray;box-sizing: border-box;top: 0;bottom: 0;left: 50%;z-index: -1;}#sk-container-id-7 div.sk-parallel-item {display: flex;flex-direction: column;z-index: 1;position: relative;background-color: white;}#sk-container-id-7 div.sk-parallel-item:first-child::after {align-self: flex-end;width: 50%;}#sk-container-id-7 div.sk-parallel-item:last-child::after {align-self: flex-start;width: 50%;}#sk-container-id-7 div.sk-parallel-item:only-child::after {width: 0;}#sk-container-id-7 div.sk-dashed-wrapped {border: 1px dashed gray;margin: 0 0.4em 0.5em 0.4em;box-sizing: border-box;padding-bottom: 0.4em;background-color: white;}#sk-container-id-7 div.sk-label label {font-family: monospace;font-weight: bold;display: inline-block;line-height: 1.2em;}#sk-container-id-7 div.sk-label-container {text-align: center;}#sk-container-id-7 div.sk-container {/* jupyter's `normalize.less` sets `[hidden] { display: none; }` but bootstrap.min.css set `[hidden] { display: none !important; }` so we also need the `!important` here to be able to override the default hidden behavior on the sphinx rendered scikit-learn.org. See: https://github.com/scikit-learn/scikit-learn/issues/21755 */display: inline-block !important;position: relative;}#sk-container-id-7 div.sk-text-repr-fallback {display: none;}</style><div id=\"sk-container-id-7\" class=\"sk-top-container\"><div class=\"sk-text-repr-fallback\"><pre>RandomForestClassifier(random_state=123)</pre><b>In a Jupyter environment, please rerun this cell to show the HTML representation or trust the notebook. <br />On GitHub, the HTML representation is unable to render, please try loading this page with nbviewer.org.</b></div><div class=\"sk-container\" hidden><div class=\"sk-item\"><div class=\"sk-estimator sk-toggleable\"><input class=\"sk-toggleable__control sk-hidden--visually\" id=\"sk-estimator-id-7\" type=\"checkbox\" checked><label for=\"sk-estimator-id-7\" class=\"sk-toggleable__label sk-toggleable__label-arrow\">RandomForestClassifier</label><div class=\"sk-toggleable__content\"><pre>RandomForestClassifier(random_state=123)</pre></div></div></div></div></div>"
      ],
      "text/plain": [
       "RandomForestClassifier(random_state=123)"
      ]
     },
     "execution_count": 85,
     "metadata": {},
     "output_type": "execute_result"
    }
   ],
   "source": [
    "# Train your classification algorithm\n",
    "classifier_rf.fit(X_full_train_tfidf, y)"
   ]
  },
  {
   "cell_type": "code",
   "execution_count": 86,
   "id": "a31eee0d-f0d6-4ce1-87c7-2f2cf4d5fce7",
   "metadata": {
    "id": "VAe0sURwO5KL",
    "tags": []
   },
   "outputs": [],
   "source": [
    "# predict using the trained model on the scaled test data\n",
    "y_full_pred_rf = classifier_rf.predict(X_full_test_tfidf)"
   ]
  },
  {
   "cell_type": "code",
   "execution_count": 87,
   "id": "d5227b67-720b-4b60-89f5-8b1ab751619b",
   "metadata": {
    "colab": {
     "base_uri": "https://localhost:8080/",
     "height": 424
    },
    "id": "PFcypE2UP29X",
    "outputId": "c8b9a01e-aa49-4da6-a6fa-7195385856b3",
    "tags": []
   },
   "outputs": [
    {
     "data": {
      "text/html": [
       "<div>\n",
       "<style scoped>\n",
       "    .dataframe tbody tr th:only-of-type {\n",
       "        vertical-align: middle;\n",
       "    }\n",
       "\n",
       "    .dataframe tbody tr th {\n",
       "        vertical-align: top;\n",
       "    }\n",
       "\n",
       "    .dataframe thead th {\n",
       "        text-align: right;\n",
       "    }\n",
       "</style>\n",
       "<table border=\"1\" class=\"dataframe\">\n",
       "  <thead>\n",
       "    <tr style=\"text-align: right;\">\n",
       "      <th></th>\n",
       "      <th>id</th>\n",
       "      <th>difficulty</th>\n",
       "    </tr>\n",
       "  </thead>\n",
       "  <tbody>\n",
       "    <tr>\n",
       "      <th>0</th>\n",
       "      <td>0</td>\n",
       "      <td>B1</td>\n",
       "    </tr>\n",
       "    <tr>\n",
       "      <th>1</th>\n",
       "      <td>1</td>\n",
       "      <td>B1</td>\n",
       "    </tr>\n",
       "    <tr>\n",
       "      <th>2</th>\n",
       "      <td>2</td>\n",
       "      <td>A1</td>\n",
       "    </tr>\n",
       "    <tr>\n",
       "      <th>3</th>\n",
       "      <td>3</td>\n",
       "      <td>A1</td>\n",
       "    </tr>\n",
       "    <tr>\n",
       "      <th>4</th>\n",
       "      <td>4</td>\n",
       "      <td>C2</td>\n",
       "    </tr>\n",
       "    <tr>\n",
       "      <th>...</th>\n",
       "      <td>...</td>\n",
       "      <td>...</td>\n",
       "    </tr>\n",
       "    <tr>\n",
       "      <th>1195</th>\n",
       "      <td>1195</td>\n",
       "      <td>B2</td>\n",
       "    </tr>\n",
       "    <tr>\n",
       "      <th>1196</th>\n",
       "      <td>1196</td>\n",
       "      <td>A2</td>\n",
       "    </tr>\n",
       "    <tr>\n",
       "      <th>1197</th>\n",
       "      <td>1197</td>\n",
       "      <td>C2</td>\n",
       "    </tr>\n",
       "    <tr>\n",
       "      <th>1198</th>\n",
       "      <td>1198</td>\n",
       "      <td>A1</td>\n",
       "    </tr>\n",
       "    <tr>\n",
       "      <th>1199</th>\n",
       "      <td>1199</td>\n",
       "      <td>A2</td>\n",
       "    </tr>\n",
       "  </tbody>\n",
       "</table>\n",
       "<p>1200 rows × 2 columns</p>\n",
       "</div>"
      ],
      "text/plain": [
       "        id difficulty\n",
       "0        0         B1\n",
       "1        1         B1\n",
       "2        2         A1\n",
       "3        3         A1\n",
       "4        4         C2\n",
       "...    ...        ...\n",
       "1195  1195         B2\n",
       "1196  1196         A2\n",
       "1197  1197         C2\n",
       "1198  1198         A1\n",
       "1199  1199         A2\n",
       "\n",
       "[1200 rows x 2 columns]"
      ]
     },
     "execution_count": 87,
     "metadata": {},
     "output_type": "execute_result"
    }
   ],
   "source": [
    "# display y_full_pred values for each X\n",
    "df_full_pred_rf = pd.DataFrame({'id': X_full_test.index, 'difficulty': y_full_pred_rf})\n",
    "df_full_pred_rf"
   ]
  },
  {
   "cell_type": "markdown",
   "id": "41991a7b-ee06-46ec-ac88-e81fdc740ced",
   "metadata": {
    "id": "891rT0sNQCcm"
   },
   "source": [
    "### Export the df as csv for kagle submission"
   ]
  },
  {
   "cell_type": "code",
   "execution_count": 89,
   "id": "2545fa13-5d51-4088-a442-e02bf9bd6221",
   "metadata": {
    "id": "zM7XO3nSQDz9",
    "tags": []
   },
   "outputs": [],
   "source": [
    "# export the dataframe as csv\n",
    "df_full_pred_rf.to_csv(\"df_rf_lemma.csv\", index=False)\n",
    "\n",
    "# accuracy score based on kagel submission: [df_rf.csv :  ; df_rf_lemma.csv : 0.391"
   ]
  },
  {
   "cell_type": "markdown",
   "id": "f4326930-c681-43f3-bdaf-b9f7e97da5e9",
   "metadata": {},
   "source": [
    "# Exploring data"
   ]
  },
  {
   "cell_type": "code",
   "execution_count": 94,
   "id": "76444586-8cec-482f-ab1c-2f3f3358dc5b",
   "metadata": {
    "scrolled": true,
    "tags": []
   },
   "outputs": [],
   "source": [
    "#Identifiying most repeated words\n",
    "#max_word = tf_idf.sum(axis=0).sort_values(ascending=False)\n",
    "#max_word.head(20)"
   ]
  },
  {
   "cell_type": "code",
   "execution_count": null,
   "id": "c1cfbdd1-4e48-4f7b-b234-15b398ceb119",
   "metadata": {
    "tags": []
   },
   "outputs": [],
   "source": [
    "#merged = pd.merge(training, tf_idf, left_index=True, right_index=True)\n",
    "#merged.head(5)"
   ]
  },
  {
   "cell_type": "code",
   "execution_count": null,
   "id": "958036cf-6a04-4df8-a46a-089325145cb4",
   "metadata": {
    "tags": []
   },
   "outputs": [],
   "source": [
    "#difficulties = ['A1', 'A2', 'B1', 'B2', 'C1', 'C2']\n",
    "#for i in difficulties:\n",
    "#    temp_df = merged[merged['difficulty']=='i']\n",
    "#    temp_df = temp_df.drop(columns=['id', 'sentence', 'difficulty'])\n",
    "#    max_word = temp_df.sum(axis=0).sort_values(ascending=False)\n",
    "#    print(i, max_word.head(10))"
   ]
  },
  {
   "cell_type": "code",
   "execution_count": null,
   "id": "c992853d-411e-45ba-bfee-beec0346a40d",
   "metadata": {
    "tags": []
   },
   "outputs": [],
   "source": [
    "#from nltk.tokenize import word_tokenize\n",
    "#nltk.download('punkt')\n",
    "\n",
    "#parameters = training.copy()\n",
    "\n",
    "# Define a function to count words and numbers\n",
    "#def count_elements(text):\n",
    "#    # Tokenize the sentence\n",
    "#    tokens = word_tokenize(text)\n",
    "#    # Count tokens\n",
    "#    return len(tokens)\n",
    "\n",
    "# Step 4: Apply the function to the 'sentence' column\n",
    "#parameters['word_count'] = parameters['sentence'].apply(count_elements)\n",
    "\n",
    "#parameters.head(5)\n"
   ]
  },
  {
   "cell_type": "code",
   "execution_count": null,
   "id": "da14a906-5765-46ad-a620-fec81aa6a9f2",
   "metadata": {
    "tags": []
   },
   "outputs": [],
   "source": [
    "#word_count = parameters.groupby('difficulty')['word_count'].mean()\n",
    "#word_count"
   ]
  },
  {
   "cell_type": "markdown",
   "id": "79f2dd4e-1f24-4e7d-9580-952c7cae85fa",
   "metadata": {},
   "source": [
    "# Other techniques"
   ]
  },
  {
   "cell_type": "markdown",
   "id": "93181ee7-3f37-44c4-94c0-77901b9e86e1",
   "metadata": {},
   "source": [
    "# Compare accuracies between the models"
   ]
  },
  {
   "cell_type": "code",
   "execution_count": null,
   "id": "e1c9dee6-0d7b-4e3f-9b67-116bfcd8963e",
   "metadata": {},
   "outputs": [],
   "source": []
  }
 ],
 "metadata": {
  "kernelspec": {
   "display_name": "Python 3 (ipykernel)",
   "language": "python",
   "name": "python3"
  },
  "language_info": {
   "codemirror_mode": {
    "name": "ipython",
    "version": 3
   },
   "file_extension": ".py",
   "mimetype": "text/x-python",
   "name": "python",
   "nbconvert_exporter": "python",
   "pygments_lexer": "ipython3",
   "version": "3.11.7"
  }
 },
 "nbformat": 4,
 "nbformat_minor": 5
}
