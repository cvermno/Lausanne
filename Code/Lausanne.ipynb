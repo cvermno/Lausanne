{
 "cells": [
  {
   "cell_type": "markdown",
   "id": "a0618d31-62a9-4c85-96ad-6bf19dd1190e",
   "metadata": {},
   "source": [
    "# Import packages"
   ]
  },
  {
   "cell_type": "code",
   "execution_count": 1,
   "id": "55dbd6b7-b14a-4ba0-a6c5-0e381aa598d2",
   "metadata": {},
   "outputs": [],
   "source": [
    "# Import standard libraries\n",
    "import pandas as pd\n",
    "import numpy as np\n",
    "import seaborn as sns\n",
    "import matplotlib.pyplot as plt\n",
    "%matplotlib inline\n",
    "\n",
    "# Import to load arff file from url\n",
    "from scipy.io import arff\n",
    "import urllib.request\n",
    "import io \n",
    "\n",
    "# Sklearn import\n",
    "from sklearn.model_selection import train_test_split # Splitting the data set\n",
    "from sklearn.preprocessing import MinMaxScaler, StandardScaler # Normalization and standard scaler\n",
    "from sklearn.preprocessing import LabelEncoder, OneHotEncoder # Label and 1-hot encoding\n",
    "from sklearn.linear_model import LogisticRegression # Logistic regression model\n",
    "from sklearn.linear_model import LogisticRegressionCV # Logistic regression with cross-validation\n",
    "from sklearn.metrics import accuracy_score  # Accuracy\n",
    "from sklearn.metrics import confusion_matrix # Confusion matrix\n",
    "from sklearn.metrics import precision_score, recall_score, f1_score  # Precision, recall, and f1 score"
   ]
  },
  {
   "cell_type": "markdown",
   "id": "bb6908db-546a-4f11-b5f5-9573d6876fcc",
   "metadata": {},
   "source": [
    "# Read data"
   ]
  },
  {
   "cell_type": "code",
   "execution_count": null,
   "id": "996be8d3-0512-487a-9e3b-003b160fd731",
   "metadata": {},
   "outputs": [],
   "source": [
    "#Training data\n",
    "training = pd.read_csv('https://github.com/cvermno/ML-Project/raw/main/Datasets/training_data.csv')\n",
    "test = pd.read_csv('https://github.com/cvermno/ML-Project/raw/main/Datasets/unlabelled_test_data.csv')\n",
    "#Sample data\n",
    "sample = pd.read_csv('https://github.com/cvermno/ML-Project/raw/main/Datasets/sample_submission.csv')"
   ]
  },
  {
   "cell_type": "markdown",
   "id": "131315c0-cb4d-49a8-bcff-b8b0fabdd5c4",
   "metadata": {},
   "source": [
    "# Logistic Regresssion"
   ]
  },
  {
   "cell_type": "markdown",
   "id": "25828425-6528-48ff-9208-71a35d1c9f7e",
   "metadata": {},
   "source": [
    "Logistic Regression predicts binary outcomes by estimating probabilities using a logistic function. It fits a curve to decide classes. Example: Predicting whether an email is spam."
   ]
  },
  {
   "cell_type": "markdown",
   "id": "a233ea6c-1582-41b6-aa3c-dd45abf36441",
   "metadata": {},
   "source": [
    "## Metrics"
   ]
  },
  {
   "cell_type": "markdown",
   "id": "8a599137-56ab-40bc-aa1b-693858ed82a6",
   "metadata": {},
   "source": [
    "### General description \n",
    "Precision: Ratio of correctly predicted positive observations to total predicted positives.\\\n",
    "Recall Rate: Ratio of correctly predicted positives to actual positives. \\\n",
    "F1 Score: Harmonic mean of precision and recall. \\\n",
    "Accuracy: Ratio of correctly predicted observations to total observations."
   ]
  },
  {
   "cell_type": "markdown",
   "id": "fcd862ec-f436-4ed7-8af0-92eaa3db1a95",
   "metadata": {},
   "source": [
    "### Calculate Precision"
   ]
  },
  {
   "cell_type": "markdown",
   "id": "5adf17b2-53bb-4519-abe7-1be1740abd89",
   "metadata": {},
   "source": [
    "### Determine the Recall rate"
   ]
  },
  {
   "cell_type": "markdown",
   "id": "0e45788e-0581-48c0-9b96-09c68d3bd512",
   "metadata": {},
   "source": [
    "### Calculate the F1 Score"
   ]
  },
  {
   "cell_type": "markdown",
   "id": "1a64f65d-7bc7-4e31-a400-f8bc0aadcd2b",
   "metadata": {},
   "source": [
    "### Calculate the accuracy"
   ]
  },
  {
   "cell_type": "markdown",
   "id": "e2adb35e-d308-4119-8671-31034fae57c9",
   "metadata": {},
   "source": [
    "# KNN "
   ]
  },
  {
   "cell_type": "markdown",
   "id": "33005d1d-92f9-4b03-b3cd-f14e7ff63d02",
   "metadata": {},
   "source": [
    "kNN (k-Nearest Neighbors) classifies by majority vote of the nearest k points. No model training, only distance calculations. Example: Recommending similar products."
   ]
  },
  {
   "cell_type": "markdown",
   "id": "0195c610-026b-4bbb-9df4-334301a378fa",
   "metadata": {},
   "source": [
    "# Decision Tree "
   ]
  },
  {
   "cell_type": "markdown",
   "id": "98d96b09-c8a4-4b17-a09e-cab8b5758c58",
   "metadata": {},
   "source": [
    "Decision Tree splits data by features to make decisions, forming a tree structure. Each node represents a decision point. Example: Loan approval based on financial history."
   ]
  },
  {
   "cell_type": "markdown",
   "id": "2d9e12d0-e7c0-4f86-8387-ff43a203b488",
   "metadata": {},
   "source": [
    "# Random Forest"
   ]
  },
  {
   "cell_type": "markdown",
   "id": "d50e8553-4ca7-4850-a1b4-69673c225f60",
   "metadata": {},
   "source": [
    "Random Forest is an ensemble of decision trees, averaging predictions to improve accuracy and control overfitting. Each tree uses a subset of data. Example: Detecting fraudulent financial transactions."
   ]
  },
  {
   "cell_type": "markdown",
   "id": "79f2dd4e-1f24-4e7d-9580-952c7cae85fa",
   "metadata": {},
   "source": [
    "# Other techniques"
   ]
  },
  {
   "cell_type": "markdown",
   "id": "93181ee7-3f37-44c4-94c0-77901b9e86e1",
   "metadata": {},
   "source": [
    "# Compare accuracies between the models"
   ]
  },
  {
   "cell_type": "code",
   "execution_count": null,
   "id": "e1c9dee6-0d7b-4e3f-9b67-116bfcd8963e",
   "metadata": {},
   "outputs": [],
   "source": []
  }
 ],
 "metadata": {
  "kernelspec": {
   "display_name": "Python 3 (ipykernel)",
   "language": "python",
   "name": "python3"
  },
  "language_info": {
   "codemirror_mode": {
    "name": "ipython",
    "version": 3
   },
   "file_extension": ".py",
   "mimetype": "text/x-python",
   "name": "python",
   "nbconvert_exporter": "python",
   "pygments_lexer": "ipython3",
   "version": "3.11.7"
  }
 },
 "nbformat": 4,
 "nbformat_minor": 5
}
